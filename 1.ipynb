{
 "cells": [
  {
   "cell_type": "markdown",
   "metadata": {
    "id": "mRrYWtkBCuzQ"
   },
   "source": [
    "### Imports"
   ]
  },
  {
   "cell_type": "code",
   "execution_count": 6,
   "metadata": {
    "executionInfo": {
     "elapsed": 428,
     "status": "ok",
     "timestamp": 1634705552475,
     "user": {
      "displayName": "MUKUND SHAH",
      "photoUrl": "https://lh3.googleusercontent.com/a/default-user=s64",
      "userId": "14017176555101206981"
     },
     "user_tz": -330
    },
    "id": "5x31fzTaCuzV"
   },
   "outputs": [],
   "source": [
    "import pandas as pd\n",
    "import matplotlib.pyplot as plt\n",
    "import seaborn as sns\n",
    "import numpy as np"
   ]
  },
  {
   "cell_type": "markdown",
   "metadata": {
    "id": "sWyvM70rCuzW"
   },
   "source": [
    "### Data"
   ]
  },
  {
   "cell_type": "code",
   "execution_count": 7,
   "metadata": {
    "colab": {
     "base_uri": "https://localhost:8080/"
    },
    "executionInfo": {
     "elapsed": 1211,
     "status": "ok",
     "timestamp": 1634705553681,
     "user": {
      "displayName": "MUKUND SHAH",
      "photoUrl": "https://lh3.googleusercontent.com/a/default-user=s64",
      "userId": "14017176555101206981"
     },
     "user_tz": -330
    },
    "id": "QakXbL_OCuzX",
    "outputId": "27ea5ff4-1da8-46ea-a578-37b30793e157"
   },
   "outputs": [
    {
     "name": "stderr",
     "output_type": "stream",
     "text": [
      "/usr/local/lib/python3.7/dist-packages/IPython/core/interactiveshell.py:2718: DtypeWarning: Columns (3) have mixed types.Specify dtype option on import or set low_memory=False.\n",
      "  interactivity=interactivity, compiler=compiler, result=result)\n"
     ]
    }
   ],
   "source": [
    "books_data = pd.read_csv(\"/content/drive/MyDrive/Colab Notebooks/Books.csv\")\n"
   ]
  },
  {
   "cell_type": "code",
   "execution_count": 8,
   "metadata": {
    "colab": {
     "base_uri": "https://localhost:8080/"
    },
    "executionInfo": {
     "elapsed": 18,
     "status": "ok",
     "timestamp": 1634705553682,
     "user": {
      "displayName": "MUKUND SHAH",
      "photoUrl": "https://lh3.googleusercontent.com/a/default-user=s64",
      "userId": "14017176555101206981"
     },
     "user_tz": -330
    },
    "id": "uYEb7dkODqmF",
    "outputId": "0f16bd7e-33f1-4e85-fe3f-586733e5c40d"
   },
   "outputs": [
    {
     "name": "stdout",
     "output_type": "stream",
     "text": [
      "Drive already mounted at /content/drive; to attempt to forcibly remount, call drive.mount(\"/content/drive\", force_remount=True).\n"
     ]
    }
   ],
   "source": [
    "from google.colab import drive\n",
    "drive.mount('/content/drive')"
   ]
  },
  {
   "cell_type": "code",
   "execution_count": 9,
   "metadata": {
    "executionInfo": {
     "elapsed": 2579,
     "status": "ok",
     "timestamp": 1634705556253,
     "user": {
      "displayName": "MUKUND SHAH",
      "photoUrl": "https://lh3.googleusercontent.com/a/default-user=s64",
      "userId": "14017176555101206981"
     },
     "user_tz": -330
    },
    "id": "I6Wb1FgACuzY"
   },
   "outputs": [],
   "source": [
    "users_data = pd.read_csv(\"/content/drive/MyDrive/Colab Notebooks/Users.csv\")\n",
    "ratings_data = pd.read_csv(\"/content/drive/MyDrive/Colab Notebooks/Ratings.csv\")"
   ]
  },
  {
   "cell_type": "code",
   "execution_count": 10,
   "metadata": {
    "colab": {
     "base_uri": "https://localhost:8080/",
     "height": 425
    },
    "executionInfo": {
     "elapsed": 63,
     "status": "ok",
     "timestamp": 1634705556256,
     "user": {
      "displayName": "MUKUND SHAH",
      "photoUrl": "https://lh3.googleusercontent.com/a/default-user=s64",
      "userId": "14017176555101206981"
     },
     "user_tz": -330
    },
    "id": "Lq6q7XhtCuzZ",
    "outputId": "d06d1714-b5cf-4f06-8f1c-4d12f3580068",
    "scrolled": true
   },
   "outputs": [
    {
     "data": {
      "text/html": [
       "<div>\n",
       "<style scoped>\n",
       "    .dataframe tbody tr th:only-of-type {\n",
       "        vertical-align: middle;\n",
       "    }\n",
       "\n",
       "    .dataframe tbody tr th {\n",
       "        vertical-align: top;\n",
       "    }\n",
       "\n",
       "    .dataframe thead th {\n",
       "        text-align: right;\n",
       "    }\n",
       "</style>\n",
       "<table border=\"1\" class=\"dataframe\">\n",
       "  <thead>\n",
       "    <tr style=\"text-align: right;\">\n",
       "      <th></th>\n",
       "      <th>ISBN</th>\n",
       "      <th>Book-Title</th>\n",
       "      <th>Book-Author</th>\n",
       "      <th>Year-Of-Publication</th>\n",
       "      <th>Publisher</th>\n",
       "      <th>Image-URL-S</th>\n",
       "      <th>Image-URL-M</th>\n",
       "      <th>Image-URL-L</th>\n",
       "    </tr>\n",
       "  </thead>\n",
       "  <tbody>\n",
       "    <tr>\n",
       "      <th>0</th>\n",
       "      <td>0195153448</td>\n",
       "      <td>Classical Mythology</td>\n",
       "      <td>Mark P. O. Morford</td>\n",
       "      <td>2002</td>\n",
       "      <td>Oxford University Press</td>\n",
       "      <td>http://images.amazon.com/images/P/0195153448.0...</td>\n",
       "      <td>http://images.amazon.com/images/P/0195153448.0...</td>\n",
       "      <td>http://images.amazon.com/images/P/0195153448.0...</td>\n",
       "    </tr>\n",
       "    <tr>\n",
       "      <th>1</th>\n",
       "      <td>0002005018</td>\n",
       "      <td>Clara Callan</td>\n",
       "      <td>Richard Bruce Wright</td>\n",
       "      <td>2001</td>\n",
       "      <td>HarperFlamingo Canada</td>\n",
       "      <td>http://images.amazon.com/images/P/0002005018.0...</td>\n",
       "      <td>http://images.amazon.com/images/P/0002005018.0...</td>\n",
       "      <td>http://images.amazon.com/images/P/0002005018.0...</td>\n",
       "    </tr>\n",
       "    <tr>\n",
       "      <th>2</th>\n",
       "      <td>0060973129</td>\n",
       "      <td>Decision in Normandy</td>\n",
       "      <td>Carlo D'Este</td>\n",
       "      <td>1991</td>\n",
       "      <td>HarperPerennial</td>\n",
       "      <td>http://images.amazon.com/images/P/0060973129.0...</td>\n",
       "      <td>http://images.amazon.com/images/P/0060973129.0...</td>\n",
       "      <td>http://images.amazon.com/images/P/0060973129.0...</td>\n",
       "    </tr>\n",
       "    <tr>\n",
       "      <th>3</th>\n",
       "      <td>0374157065</td>\n",
       "      <td>Flu: The Story of the Great Influenza Pandemic...</td>\n",
       "      <td>Gina Bari Kolata</td>\n",
       "      <td>1999</td>\n",
       "      <td>Farrar Straus Giroux</td>\n",
       "      <td>http://images.amazon.com/images/P/0374157065.0...</td>\n",
       "      <td>http://images.amazon.com/images/P/0374157065.0...</td>\n",
       "      <td>http://images.amazon.com/images/P/0374157065.0...</td>\n",
       "    </tr>\n",
       "    <tr>\n",
       "      <th>4</th>\n",
       "      <td>0393045218</td>\n",
       "      <td>The Mummies of Urumchi</td>\n",
       "      <td>E. J. W. Barber</td>\n",
       "      <td>1999</td>\n",
       "      <td>W. W. Norton &amp;amp; Company</td>\n",
       "      <td>http://images.amazon.com/images/P/0393045218.0...</td>\n",
       "      <td>http://images.amazon.com/images/P/0393045218.0...</td>\n",
       "      <td>http://images.amazon.com/images/P/0393045218.0...</td>\n",
       "    </tr>\n",
       "  </tbody>\n",
       "</table>\n",
       "</div>"
      ],
      "text/plain": [
       "         ISBN  ...                                        Image-URL-L\n",
       "0  0195153448  ...  http://images.amazon.com/images/P/0195153448.0...\n",
       "1  0002005018  ...  http://images.amazon.com/images/P/0002005018.0...\n",
       "2  0060973129  ...  http://images.amazon.com/images/P/0060973129.0...\n",
       "3  0374157065  ...  http://images.amazon.com/images/P/0374157065.0...\n",
       "4  0393045218  ...  http://images.amazon.com/images/P/0393045218.0...\n",
       "\n",
       "[5 rows x 8 columns]"
      ]
     },
     "execution_count": 10,
     "metadata": {},
     "output_type": "execute_result"
    }
   ],
   "source": [
    "books_data.head(5)"
   ]
  },
  {
   "cell_type": "code",
   "execution_count": 11,
   "metadata": {
    "executionInfo": {
     "elapsed": 60,
     "status": "ok",
     "timestamp": 1634705556258,
     "user": {
      "displayName": "MUKUND SHAH",
      "photoUrl": "https://lh3.googleusercontent.com/a/default-user=s64",
      "userId": "14017176555101206981"
     },
     "user_tz": -330
    },
    "id": "bvDgNSWQCuzZ"
   },
   "outputs": [],
   "source": [
    "##Lets see what these Different Url is doing"
   ]
  },
  {
   "cell_type": "code",
   "execution_count": 12,
   "metadata": {
    "colab": {
     "base_uri": "https://localhost:8080/",
     "height": 35
    },
    "executionInfo": {
     "elapsed": 61,
     "status": "ok",
     "timestamp": 1634705556260,
     "user": {
      "displayName": "MUKUND SHAH",
      "photoUrl": "https://lh3.googleusercontent.com/a/default-user=s64",
      "userId": "14017176555101206981"
     },
     "user_tz": -330
    },
    "id": "N4cIjhdhCuza",
    "outputId": "ed2a33ff-92b1-457e-f91e-e51bf0f50726"
   },
   "outputs": [
    {
     "data": {
      "application/vnd.google.colaboratory.intrinsic+json": {
       "type": "string"
      },
      "text/plain": [
       "'http://images.amazon.com/images/P/0195153448.01.THUMBZZZ.jpg'"
      ]
     },
     "execution_count": 12,
     "metadata": {},
     "output_type": "execute_result"
    }
   ],
   "source": [
    "books_data['Image-URL-S'][0]    ###use given link to see image"
   ]
  },
  {
   "cell_type": "code",
   "execution_count": 13,
   "metadata": {
    "colab": {
     "base_uri": "https://localhost:8080/",
     "height": 35
    },
    "executionInfo": {
     "elapsed": 59,
     "status": "ok",
     "timestamp": 1634705556261,
     "user": {
      "displayName": "MUKUND SHAH",
      "photoUrl": "https://lh3.googleusercontent.com/a/default-user=s64",
      "userId": "14017176555101206981"
     },
     "user_tz": -330
    },
    "id": "k52gSXLoCuzb",
    "outputId": "97742423-13b4-44d7-df6f-9f6a674adf7b",
    "scrolled": true
   },
   "outputs": [
    {
     "data": {
      "application/vnd.google.colaboratory.intrinsic+json": {
       "type": "string"
      },
      "text/plain": [
       "'http://images.amazon.com/images/P/0195153448.01.MZZZZZZZ.jpg'"
      ]
     },
     "execution_count": 13,
     "metadata": {},
     "output_type": "execute_result"
    }
   ],
   "source": [
    "books_data['Image-URL-M'][0]    ###use given link to see image"
   ]
  },
  {
   "cell_type": "code",
   "execution_count": 14,
   "metadata": {
    "executionInfo": {
     "elapsed": 58,
     "status": "ok",
     "timestamp": 1634705556263,
     "user": {
      "displayName": "MUKUND SHAH",
      "photoUrl": "https://lh3.googleusercontent.com/a/default-user=s64",
      "userId": "14017176555101206981"
     },
     "user_tz": -330
    },
    "id": "7AaTnClqCuzc"
   },
   "outputs": [],
   "source": [
    "#images of different sizes may not have any relevence for model building or any other analysis maybe used in future for Building application purpose But for now It's of no use"
   ]
  },
  {
   "cell_type": "code",
   "execution_count": 15,
   "metadata": {
    "colab": {
     "base_uri": "https://localhost:8080/",
     "height": 417
    },
    "executionInfo": {
     "elapsed": 58,
     "status": "ok",
     "timestamp": 1634705556264,
     "user": {
      "displayName": "MUKUND SHAH",
      "photoUrl": "https://lh3.googleusercontent.com/a/default-user=s64",
      "userId": "14017176555101206981"
     },
     "user_tz": -330
    },
    "id": "PurVkplRCuzd",
    "outputId": "61f8e670-2d0a-4b77-9aae-7af3a77e1d91"
   },
   "outputs": [
    {
     "data": {
      "text/html": [
       "<div>\n",
       "<style scoped>\n",
       "    .dataframe tbody tr th:only-of-type {\n",
       "        vertical-align: middle;\n",
       "    }\n",
       "\n",
       "    .dataframe tbody tr th {\n",
       "        vertical-align: top;\n",
       "    }\n",
       "\n",
       "    .dataframe thead th {\n",
       "        text-align: right;\n",
       "    }\n",
       "</style>\n",
       "<table border=\"1\" class=\"dataframe\">\n",
       "  <thead>\n",
       "    <tr style=\"text-align: right;\">\n",
       "      <th></th>\n",
       "      <th>User-ID</th>\n",
       "      <th>Location</th>\n",
       "      <th>Age</th>\n",
       "    </tr>\n",
       "  </thead>\n",
       "  <tbody>\n",
       "    <tr>\n",
       "      <th>0</th>\n",
       "      <td>1</td>\n",
       "      <td>nyc, new york, usa</td>\n",
       "      <td>NaN</td>\n",
       "    </tr>\n",
       "    <tr>\n",
       "      <th>1</th>\n",
       "      <td>2</td>\n",
       "      <td>stockton, california, usa</td>\n",
       "      <td>18.0</td>\n",
       "    </tr>\n",
       "    <tr>\n",
       "      <th>2</th>\n",
       "      <td>3</td>\n",
       "      <td>moscow, yukon territory, russia</td>\n",
       "      <td>NaN</td>\n",
       "    </tr>\n",
       "    <tr>\n",
       "      <th>3</th>\n",
       "      <td>4</td>\n",
       "      <td>porto, v.n.gaia, portugal</td>\n",
       "      <td>17.0</td>\n",
       "    </tr>\n",
       "    <tr>\n",
       "      <th>4</th>\n",
       "      <td>5</td>\n",
       "      <td>farnborough, hants, united kingdom</td>\n",
       "      <td>NaN</td>\n",
       "    </tr>\n",
       "    <tr>\n",
       "      <th>...</th>\n",
       "      <td>...</td>\n",
       "      <td>...</td>\n",
       "      <td>...</td>\n",
       "    </tr>\n",
       "    <tr>\n",
       "      <th>278853</th>\n",
       "      <td>278854</td>\n",
       "      <td>portland, oregon, usa</td>\n",
       "      <td>NaN</td>\n",
       "    </tr>\n",
       "    <tr>\n",
       "      <th>278854</th>\n",
       "      <td>278855</td>\n",
       "      <td>tacoma, washington, united kingdom</td>\n",
       "      <td>50.0</td>\n",
       "    </tr>\n",
       "    <tr>\n",
       "      <th>278855</th>\n",
       "      <td>278856</td>\n",
       "      <td>brampton, ontario, canada</td>\n",
       "      <td>NaN</td>\n",
       "    </tr>\n",
       "    <tr>\n",
       "      <th>278856</th>\n",
       "      <td>278857</td>\n",
       "      <td>knoxville, tennessee, usa</td>\n",
       "      <td>NaN</td>\n",
       "    </tr>\n",
       "    <tr>\n",
       "      <th>278857</th>\n",
       "      <td>278858</td>\n",
       "      <td>dublin, n/a, ireland</td>\n",
       "      <td>NaN</td>\n",
       "    </tr>\n",
       "  </tbody>\n",
       "</table>\n",
       "<p>278858 rows × 3 columns</p>\n",
       "</div>"
      ],
      "text/plain": [
       "        User-ID                            Location   Age\n",
       "0             1                  nyc, new york, usa   NaN\n",
       "1             2           stockton, california, usa  18.0\n",
       "2             3     moscow, yukon territory, russia   NaN\n",
       "3             4           porto, v.n.gaia, portugal  17.0\n",
       "4             5  farnborough, hants, united kingdom   NaN\n",
       "...         ...                                 ...   ...\n",
       "278853   278854               portland, oregon, usa   NaN\n",
       "278854   278855  tacoma, washington, united kingdom  50.0\n",
       "278855   278856           brampton, ontario, canada   NaN\n",
       "278856   278857           knoxville, tennessee, usa   NaN\n",
       "278857   278858                dublin, n/a, ireland   NaN\n",
       "\n",
       "[278858 rows x 3 columns]"
      ]
     },
     "execution_count": 15,
     "metadata": {},
     "output_type": "execute_result"
    }
   ],
   "source": [
    "users_data"
   ]
  },
  {
   "cell_type": "code",
   "execution_count": 16,
   "metadata": {
    "colab": {
     "base_uri": "https://localhost:8080/",
     "height": 417
    },
    "executionInfo": {
     "elapsed": 55,
     "status": "ok",
     "timestamp": 1634705556265,
     "user": {
      "displayName": "MUKUND SHAH",
      "photoUrl": "https://lh3.googleusercontent.com/a/default-user=s64",
      "userId": "14017176555101206981"
     },
     "user_tz": -330
    },
    "id": "KfNcr-GrCuze",
    "outputId": "7da0c633-9ba3-4046-abac-702aa39dd6f0",
    "scrolled": true
   },
   "outputs": [
    {
     "data": {
      "text/html": [
       "<div>\n",
       "<style scoped>\n",
       "    .dataframe tbody tr th:only-of-type {\n",
       "        vertical-align: middle;\n",
       "    }\n",
       "\n",
       "    .dataframe tbody tr th {\n",
       "        vertical-align: top;\n",
       "    }\n",
       "\n",
       "    .dataframe thead th {\n",
       "        text-align: right;\n",
       "    }\n",
       "</style>\n",
       "<table border=\"1\" class=\"dataframe\">\n",
       "  <thead>\n",
       "    <tr style=\"text-align: right;\">\n",
       "      <th></th>\n",
       "      <th>User-ID</th>\n",
       "      <th>ISBN</th>\n",
       "      <th>Book-Rating</th>\n",
       "    </tr>\n",
       "  </thead>\n",
       "  <tbody>\n",
       "    <tr>\n",
       "      <th>0</th>\n",
       "      <td>276725</td>\n",
       "      <td>034545104X</td>\n",
       "      <td>0</td>\n",
       "    </tr>\n",
       "    <tr>\n",
       "      <th>1</th>\n",
       "      <td>276726</td>\n",
       "      <td>0155061224</td>\n",
       "      <td>5</td>\n",
       "    </tr>\n",
       "    <tr>\n",
       "      <th>2</th>\n",
       "      <td>276727</td>\n",
       "      <td>0446520802</td>\n",
       "      <td>0</td>\n",
       "    </tr>\n",
       "    <tr>\n",
       "      <th>3</th>\n",
       "      <td>276729</td>\n",
       "      <td>052165615X</td>\n",
       "      <td>3</td>\n",
       "    </tr>\n",
       "    <tr>\n",
       "      <th>4</th>\n",
       "      <td>276729</td>\n",
       "      <td>0521795028</td>\n",
       "      <td>6</td>\n",
       "    </tr>\n",
       "    <tr>\n",
       "      <th>...</th>\n",
       "      <td>...</td>\n",
       "      <td>...</td>\n",
       "      <td>...</td>\n",
       "    </tr>\n",
       "    <tr>\n",
       "      <th>1149775</th>\n",
       "      <td>276704</td>\n",
       "      <td>1563526298</td>\n",
       "      <td>9</td>\n",
       "    </tr>\n",
       "    <tr>\n",
       "      <th>1149776</th>\n",
       "      <td>276706</td>\n",
       "      <td>0679447156</td>\n",
       "      <td>0</td>\n",
       "    </tr>\n",
       "    <tr>\n",
       "      <th>1149777</th>\n",
       "      <td>276709</td>\n",
       "      <td>0515107662</td>\n",
       "      <td>10</td>\n",
       "    </tr>\n",
       "    <tr>\n",
       "      <th>1149778</th>\n",
       "      <td>276721</td>\n",
       "      <td>0590442449</td>\n",
       "      <td>10</td>\n",
       "    </tr>\n",
       "    <tr>\n",
       "      <th>1149779</th>\n",
       "      <td>276723</td>\n",
       "      <td>05162443314</td>\n",
       "      <td>8</td>\n",
       "    </tr>\n",
       "  </tbody>\n",
       "</table>\n",
       "<p>1149780 rows × 3 columns</p>\n",
       "</div>"
      ],
      "text/plain": [
       "         User-ID         ISBN  Book-Rating\n",
       "0         276725   034545104X            0\n",
       "1         276726   0155061224            5\n",
       "2         276727   0446520802            0\n",
       "3         276729   052165615X            3\n",
       "4         276729   0521795028            6\n",
       "...          ...          ...          ...\n",
       "1149775   276704   1563526298            9\n",
       "1149776   276706   0679447156            0\n",
       "1149777   276709   0515107662           10\n",
       "1149778   276721   0590442449           10\n",
       "1149779   276723  05162443314            8\n",
       "\n",
       "[1149780 rows x 3 columns]"
      ]
     },
     "execution_count": 16,
     "metadata": {},
     "output_type": "execute_result"
    }
   ],
   "source": [
    "ratings_data"
   ]
  },
  {
   "cell_type": "code",
   "execution_count": 17,
   "metadata": {
    "executionInfo": {
     "elapsed": 58,
     "status": "ok",
     "timestamp": 1634705556271,
     "user": {
      "displayName": "MUKUND SHAH",
      "photoUrl": "https://lh3.googleusercontent.com/a/default-user=s64",
      "userId": "14017176555101206981"
     },
     "user_tz": -330
    },
    "id": "mmUPc40iCuze"
   },
   "outputs": [],
   "source": [
    "# ISBN no. is useful for relating datasets of books and ratings but Url we are removing them for now"
   ]
  },
  {
   "cell_type": "code",
   "execution_count": 18,
   "metadata": {
    "executionInfo": {
     "elapsed": 59,
     "status": "ok",
     "timestamp": 1634705556273,
     "user": {
      "displayName": "MUKUND SHAH",
      "photoUrl": "https://lh3.googleusercontent.com/a/default-user=s64",
      "userId": "14017176555101206981"
     },
     "user_tz": -330
    },
    "id": "8vZFNDERCuze",
    "scrolled": true
   },
   "outputs": [],
   "source": [
    "books_data = books_data[['ISBN','Book-Title','Book-Author','Year-Of-Publication','Publisher']]"
   ]
  },
  {
   "cell_type": "code",
   "execution_count": 19,
   "metadata": {
    "executionInfo": {
     "elapsed": 60,
     "status": "ok",
     "timestamp": 1634705556275,
     "user": {
      "displayName": "MUKUND SHAH",
      "photoUrl": "https://lh3.googleusercontent.com/a/default-user=s64",
      "userId": "14017176555101206981"
     },
     "user_tz": -330
    },
    "id": "ZHsk4B60Cuzf"
   },
   "outputs": [],
   "source": [
    "##What we are going to do?\n",
    "##1.find top books\n",
    "##2.End Recommend 5 books to User relevent to its history \n",
    "# Note = Non rated book does not imply 0 rating"
   ]
  },
  {
   "cell_type": "markdown",
   "metadata": {
    "id": "GKZR-1ttCuzf"
   },
   "source": [
    "### Top Books"
   ]
  },
  {
   "cell_type": "code",
   "execution_count": 20,
   "metadata": {
    "executionInfo": {
     "elapsed": 60,
     "status": "ok",
     "timestamp": 1634705556276,
     "user": {
      "displayName": "MUKUND SHAH",
      "photoUrl": "https://lh3.googleusercontent.com/a/default-user=s64",
      "userId": "14017176555101206981"
     },
     "user_tz": -330
    },
    "id": "XK7snZJ2Cuzg"
   },
   "outputs": [],
   "source": [
    "book_rating= ratings_data.groupby('ISBN')   ### rating groupby for each book"
   ]
  },
  {
   "cell_type": "code",
   "execution_count": 21,
   "metadata": {
    "executionInfo": {
     "elapsed": 1142,
     "status": "ok",
     "timestamp": 1634705557360,
     "user": {
      "displayName": "MUKUND SHAH",
      "photoUrl": "https://lh3.googleusercontent.com/a/default-user=s64",
      "userId": "14017176555101206981"
     },
     "user_tz": -330
    },
    "id": "aSZuTlkKCuzg"
   },
   "outputs": [],
   "source": [
    "mean_rated_books = pd.DataFrame(book_rating['Book-Rating'].mean())    ### mean rating of each book"
   ]
  },
  {
   "cell_type": "code",
   "execution_count": 22,
   "metadata": {
    "colab": {
     "base_uri": "https://localhost:8080/"
    },
    "executionInfo": {
     "elapsed": 39,
     "status": "ok",
     "timestamp": 1634705557361,
     "user": {
      "displayName": "MUKUND SHAH",
      "photoUrl": "https://lh3.googleusercontent.com/a/default-user=s64",
      "userId": "14017176555101206981"
     },
     "user_tz": -330
    },
    "id": "QajFiv1eCuzg",
    "outputId": "7edffc13-be9d-4b19-8bf4-7f9f0d225682",
    "scrolled": false
   },
   "outputs": [
    {
     "data": {
      "text/plain": [
       "(340556, 1)"
      ]
     },
     "execution_count": 22,
     "metadata": {},
     "output_type": "execute_result"
    }
   ],
   "source": [
    "mean_rated_books.shape"
   ]
  },
  {
   "cell_type": "code",
   "execution_count": 23,
   "metadata": {
    "executionInfo": {
     "elapsed": 33,
     "status": "ok",
     "timestamp": 1634705557362,
     "user": {
      "displayName": "MUKUND SHAH",
      "photoUrl": "https://lh3.googleusercontent.com/a/default-user=s64",
      "userId": "14017176555101206981"
     },
     "user_tz": -330
    },
    "id": "aB_Y81aXCuzg",
    "scrolled": true
   },
   "outputs": [],
   "source": [
    "rated_books = pd.concat([mean_rated_books,book_rating.size()],axis = 1)"
   ]
  },
  {
   "cell_type": "code",
   "execution_count": 24,
   "metadata": {
    "executionInfo": {
     "elapsed": 33,
     "status": "ok",
     "timestamp": 1634705557364,
     "user": {
      "displayName": "MUKUND SHAH",
      "photoUrl": "https://lh3.googleusercontent.com/a/default-user=s64",
      "userId": "14017176555101206981"
     },
     "user_tz": -330
    },
    "id": "iwSkHHuPCuzh"
   },
   "outputs": [],
   "source": [
    "rated_books['No. Of Ratings'] = rated_books[0]"
   ]
  },
  {
   "cell_type": "code",
   "execution_count": 25,
   "metadata": {
    "executionInfo": {
     "elapsed": 33,
     "status": "ok",
     "timestamp": 1634705557365,
     "user": {
      "displayName": "MUKUND SHAH",
      "photoUrl": "https://lh3.googleusercontent.com/a/default-user=s64",
      "userId": "14017176555101206981"
     },
     "user_tz": -330
    },
    "id": "jQ9FXfItCuzh"
   },
   "outputs": [],
   "source": [
    "rated_books = rated_books.drop(0,axis =1)"
   ]
  },
  {
   "cell_type": "code",
   "execution_count": 26,
   "metadata": {
    "colab": {
     "base_uri": "https://localhost:8080/",
     "height": 0
    },
    "executionInfo": {
     "elapsed": 34,
     "status": "ok",
     "timestamp": 1634705557367,
     "user": {
      "displayName": "MUKUND SHAH",
      "photoUrl": "https://lh3.googleusercontent.com/a/default-user=s64",
      "userId": "14017176555101206981"
     },
     "user_tz": -330
    },
    "id": "pNRr60SzCuzh",
    "outputId": "d1a60777-8240-4e0f-fd96-162fd03453de"
   },
   "outputs": [
    {
     "data": {
      "text/html": [
       "<div>\n",
       "<style scoped>\n",
       "    .dataframe tbody tr th:only-of-type {\n",
       "        vertical-align: middle;\n",
       "    }\n",
       "\n",
       "    .dataframe tbody tr th {\n",
       "        vertical-align: top;\n",
       "    }\n",
       "\n",
       "    .dataframe thead th {\n",
       "        text-align: right;\n",
       "    }\n",
       "</style>\n",
       "<table border=\"1\" class=\"dataframe\">\n",
       "  <thead>\n",
       "    <tr style=\"text-align: right;\">\n",
       "      <th></th>\n",
       "      <th>Book-Rating</th>\n",
       "      <th>No. Of Ratings</th>\n",
       "    </tr>\n",
       "    <tr>\n",
       "      <th>ISBN</th>\n",
       "      <th></th>\n",
       "      <th></th>\n",
       "    </tr>\n",
       "  </thead>\n",
       "  <tbody>\n",
       "    <tr>\n",
       "      <th>0874477050</th>\n",
       "      <td>10.0</td>\n",
       "      <td>1</td>\n",
       "    </tr>\n",
       "    <tr>\n",
       "      <th>561002010</th>\n",
       "      <td>10.0</td>\n",
       "      <td>1</td>\n",
       "    </tr>\n",
       "    <tr>\n",
       "      <th>0590939874</th>\n",
       "      <td>10.0</td>\n",
       "      <td>1</td>\n",
       "    </tr>\n",
       "    <tr>\n",
       "      <th>1570761914</th>\n",
       "      <td>10.0</td>\n",
       "      <td>1</td>\n",
       "    </tr>\n",
       "    <tr>\n",
       "      <th>56500624X</th>\n",
       "      <td>10.0</td>\n",
       "      <td>1</td>\n",
       "    </tr>\n",
       "    <tr>\n",
       "      <th>...</th>\n",
       "      <td>...</td>\n",
       "      <td>...</td>\n",
       "    </tr>\n",
       "    <tr>\n",
       "      <th>0866838937</th>\n",
       "      <td>0.0</td>\n",
       "      <td>1</td>\n",
       "    </tr>\n",
       "    <tr>\n",
       "      <th>0866839070</th>\n",
       "      <td>0.0</td>\n",
       "      <td>1</td>\n",
       "    </tr>\n",
       "    <tr>\n",
       "      <th>0866839100</th>\n",
       "      <td>0.0</td>\n",
       "      <td>1</td>\n",
       "    </tr>\n",
       "    <tr>\n",
       "      <th>0866839453</th>\n",
       "      <td>0.0</td>\n",
       "      <td>1</td>\n",
       "    </tr>\n",
       "    <tr>\n",
       "      <th>0439216397</th>\n",
       "      <td>0.0</td>\n",
       "      <td>2</td>\n",
       "    </tr>\n",
       "  </tbody>\n",
       "</table>\n",
       "<p>340556 rows × 2 columns</p>\n",
       "</div>"
      ],
      "text/plain": [
       "            Book-Rating  No. Of Ratings\n",
       "ISBN                                   \n",
       "0874477050         10.0               1\n",
       "561002010          10.0               1\n",
       "0590939874         10.0               1\n",
       "1570761914         10.0               1\n",
       "56500624X          10.0               1\n",
       "...                 ...             ...\n",
       "0866838937          0.0               1\n",
       "0866839070          0.0               1\n",
       "0866839100          0.0               1\n",
       "0866839453          0.0               1\n",
       "0439216397          0.0               2\n",
       "\n",
       "[340556 rows x 2 columns]"
      ]
     },
     "execution_count": 26,
     "metadata": {},
     "output_type": "execute_result"
    }
   ],
   "source": [
    "rated_books.sort_values('Book-Rating', ascending = False)"
   ]
  },
  {
   "cell_type": "code",
   "execution_count": 27,
   "metadata": {
    "colab": {
     "base_uri": "https://localhost:8080/",
     "height": 0
    },
    "executionInfo": {
     "elapsed": 33,
     "status": "ok",
     "timestamp": 1634705557369,
     "user": {
      "displayName": "MUKUND SHAH",
      "photoUrl": "https://lh3.googleusercontent.com/a/default-user=s64",
      "userId": "14017176555101206981"
     },
     "user_tz": -330
    },
    "id": "yN3IkcJ1Cuzi",
    "outputId": "0b4e15e4-8892-46af-c8de-408275b9ed52",
    "scrolled": true
   },
   "outputs": [
    {
     "data": {
      "text/html": [
       "<div>\n",
       "<style scoped>\n",
       "    .dataframe tbody tr th:only-of-type {\n",
       "        vertical-align: middle;\n",
       "    }\n",
       "\n",
       "    .dataframe tbody tr th {\n",
       "        vertical-align: top;\n",
       "    }\n",
       "\n",
       "    .dataframe thead th {\n",
       "        text-align: right;\n",
       "    }\n",
       "</style>\n",
       "<table border=\"1\" class=\"dataframe\">\n",
       "  <thead>\n",
       "    <tr style=\"text-align: right;\">\n",
       "      <th></th>\n",
       "      <th>Book-Rating</th>\n",
       "      <th>No. Of Ratings</th>\n",
       "    </tr>\n",
       "    <tr>\n",
       "      <th>ISBN</th>\n",
       "      <th></th>\n",
       "      <th></th>\n",
       "    </tr>\n",
       "  </thead>\n",
       "  <tbody>\n",
       "    <tr>\n",
       "      <th>0684874350</th>\n",
       "      <td>4.115242</td>\n",
       "      <td>269</td>\n",
       "    </tr>\n",
       "    <tr>\n",
       "      <th>0671001795</th>\n",
       "      <td>3.464419</td>\n",
       "      <td>267</td>\n",
       "    </tr>\n",
       "    <tr>\n",
       "      <th>0805063897</th>\n",
       "      <td>4.142322</td>\n",
       "      <td>267</td>\n",
       "    </tr>\n",
       "    <tr>\n",
       "      <th>0553268880</th>\n",
       "      <td>2.260377</td>\n",
       "      <td>265</td>\n",
       "    </tr>\n",
       "    <tr>\n",
       "      <th>0380730138</th>\n",
       "      <td>2.245283</td>\n",
       "      <td>265</td>\n",
       "    </tr>\n",
       "    <tr>\n",
       "      <th>0316569321</th>\n",
       "      <td>3.396226</td>\n",
       "      <td>265</td>\n",
       "    </tr>\n",
       "    <tr>\n",
       "      <th>0679429220</th>\n",
       "      <td>3.159091</td>\n",
       "      <td>264</td>\n",
       "    </tr>\n",
       "    <tr>\n",
       "      <th>0440226104</th>\n",
       "      <td>2.794677</td>\n",
       "      <td>263</td>\n",
       "    </tr>\n",
       "    <tr>\n",
       "      <th>0446612545</th>\n",
       "      <td>3.098859</td>\n",
       "      <td>263</td>\n",
       "    </tr>\n",
       "    <tr>\n",
       "      <th>1558743669</th>\n",
       "      <td>4.091603</td>\n",
       "      <td>262</td>\n",
       "    </tr>\n",
       "    <tr>\n",
       "      <th>0345391055</th>\n",
       "      <td>2.216216</td>\n",
       "      <td>259</td>\n",
       "    </tr>\n",
       "    <tr>\n",
       "      <th>0515131229</th>\n",
       "      <td>3.271318</td>\n",
       "      <td>258</td>\n",
       "    </tr>\n",
       "    <tr>\n",
       "      <th>0804114986</th>\n",
       "      <td>3.443580</td>\n",
       "      <td>257</td>\n",
       "    </tr>\n",
       "    <tr>\n",
       "      <th>0345380371</th>\n",
       "      <td>2.509728</td>\n",
       "      <td>257</td>\n",
       "    </tr>\n",
       "    <tr>\n",
       "      <th>0345339703</th>\n",
       "      <td>4.505837</td>\n",
       "      <td>257</td>\n",
       "    </tr>\n",
       "    <tr>\n",
       "      <th>0312983271</th>\n",
       "      <td>3.042802</td>\n",
       "      <td>257</td>\n",
       "    </tr>\n",
       "    <tr>\n",
       "      <th>080410526X</th>\n",
       "      <td>2.891051</td>\n",
       "      <td>257</td>\n",
       "    </tr>\n",
       "    <tr>\n",
       "      <th>0060959037</th>\n",
       "      <td>4.450593</td>\n",
       "      <td>253</td>\n",
       "    </tr>\n",
       "    <tr>\n",
       "      <th>0446611212</th>\n",
       "      <td>2.809524</td>\n",
       "      <td>252</td>\n",
       "    </tr>\n",
       "    <tr>\n",
       "      <th>0345387651</th>\n",
       "      <td>2.821429</td>\n",
       "      <td>252</td>\n",
       "    </tr>\n",
       "  </tbody>\n",
       "</table>\n",
       "</div>"
      ],
      "text/plain": [
       "            Book-Rating  No. Of Ratings\n",
       "ISBN                                   \n",
       "0684874350     4.115242             269\n",
       "0671001795     3.464419             267\n",
       "0805063897     4.142322             267\n",
       "0553268880     2.260377             265\n",
       "0380730138     2.245283             265\n",
       "0316569321     3.396226             265\n",
       "0679429220     3.159091             264\n",
       "0440226104     2.794677             263\n",
       "0446612545     3.098859             263\n",
       "1558743669     4.091603             262\n",
       "0345391055     2.216216             259\n",
       "0515131229     3.271318             258\n",
       "0804114986     3.443580             257\n",
       "0345380371     2.509728             257\n",
       "0345339703     4.505837             257\n",
       "0312983271     3.042802             257\n",
       "080410526X     2.891051             257\n",
       "0060959037     4.450593             253\n",
       "0446611212     2.809524             252\n",
       "0345387651     2.821429             252"
      ]
     },
     "execution_count": 27,
     "metadata": {},
     "output_type": "execute_result"
    }
   ],
   "source": [
    "rated_books.sort_values('No. Of Ratings', ascending = False)[100:120]"
   ]
  },
  {
   "cell_type": "code",
   "execution_count": 28,
   "metadata": {
    "colab": {
     "base_uri": "https://localhost:8080/",
     "height": 0
    },
    "executionInfo": {
     "elapsed": 32,
     "status": "ok",
     "timestamp": 1634705557371,
     "user": {
      "displayName": "MUKUND SHAH",
      "photoUrl": "https://lh3.googleusercontent.com/a/default-user=s64",
      "userId": "14017176555101206981"
     },
     "user_tz": -330
    },
    "id": "2414Vih1Cuzi",
    "outputId": "9871e1e7-bf3d-4c4f-c8b0-89a7c49647c3",
    "scrolled": false
   },
   "outputs": [
    {
     "data": {
      "text/html": [
       "<div>\n",
       "<style scoped>\n",
       "    .dataframe tbody tr th:only-of-type {\n",
       "        vertical-align: middle;\n",
       "    }\n",
       "\n",
       "    .dataframe tbody tr th {\n",
       "        vertical-align: top;\n",
       "    }\n",
       "\n",
       "    .dataframe thead th {\n",
       "        text-align: right;\n",
       "    }\n",
       "</style>\n",
       "<table border=\"1\" class=\"dataframe\">\n",
       "  <thead>\n",
       "    <tr style=\"text-align: right;\">\n",
       "      <th></th>\n",
       "      <th>Book-Rating</th>\n",
       "      <th>No. Of Ratings</th>\n",
       "    </tr>\n",
       "  </thead>\n",
       "  <tbody>\n",
       "    <tr>\n",
       "      <th>count</th>\n",
       "      <td>340556.000000</td>\n",
       "      <td>340556.000000</td>\n",
       "    </tr>\n",
       "    <tr>\n",
       "      <th>mean</th>\n",
       "      <td>2.943595</td>\n",
       "      <td>3.376185</td>\n",
       "    </tr>\n",
       "    <tr>\n",
       "      <th>std</th>\n",
       "      <td>3.345574</td>\n",
       "      <td>12.436252</td>\n",
       "    </tr>\n",
       "    <tr>\n",
       "      <th>min</th>\n",
       "      <td>0.000000</td>\n",
       "      <td>1.000000</td>\n",
       "    </tr>\n",
       "    <tr>\n",
       "      <th>25%</th>\n",
       "      <td>0.000000</td>\n",
       "      <td>1.000000</td>\n",
       "    </tr>\n",
       "    <tr>\n",
       "      <th>50%</th>\n",
       "      <td>1.800000</td>\n",
       "      <td>1.000000</td>\n",
       "    </tr>\n",
       "    <tr>\n",
       "      <th>75%</th>\n",
       "      <td>5.000000</td>\n",
       "      <td>2.000000</td>\n",
       "    </tr>\n",
       "    <tr>\n",
       "      <th>max</th>\n",
       "      <td>10.000000</td>\n",
       "      <td>2502.000000</td>\n",
       "    </tr>\n",
       "  </tbody>\n",
       "</table>\n",
       "</div>"
      ],
      "text/plain": [
       "         Book-Rating  No. Of Ratings\n",
       "count  340556.000000   340556.000000\n",
       "mean        2.943595        3.376185\n",
       "std         3.345574       12.436252\n",
       "min         0.000000        1.000000\n",
       "25%         0.000000        1.000000\n",
       "50%         1.800000        1.000000\n",
       "75%         5.000000        2.000000\n",
       "max        10.000000     2502.000000"
      ]
     },
     "execution_count": 28,
     "metadata": {},
     "output_type": "execute_result"
    }
   ],
   "source": [
    "rated_books.describe()"
   ]
  },
  {
   "cell_type": "code",
   "execution_count": 29,
   "metadata": {
    "colab": {
     "base_uri": "https://localhost:8080/",
     "height": 0
    },
    "executionInfo": {
     "elapsed": 4857,
     "status": "ok",
     "timestamp": 1634705562199,
     "user": {
      "displayName": "MUKUND SHAH",
      "photoUrl": "https://lh3.googleusercontent.com/a/default-user=s64",
      "userId": "14017176555101206981"
     },
     "user_tz": -330
    },
    "id": "tXyNjeUeCuzj",
    "outputId": "cdf48f0d-658b-41a2-e0e7-18b7ad0d89f6",
    "scrolled": false
   },
   "outputs": [
    {
     "name": "stderr",
     "output_type": "stream",
     "text": [
      "/usr/local/lib/python3.7/dist-packages/seaborn/_decorators.py:43: FutureWarning: Pass the following variable as a keyword arg: x. From version 0.12, the only valid positional argument will be `data`, and passing other arguments without an explicit keyword will result in an error or misinterpretation.\n",
      "  FutureWarning\n"
     ]
    },
    {
     "data": {
      "image/png": "[encoded data removed]",
      "text/plain": [
       "<Figure size 432x288 with 1 Axes>"
      ]
     },
     "metadata": {
      "needs_background": "light"
     },
     "output_type": "display_data"
    }
   ],
   "source": [
    "plt.xlim([1,3])\n",
    "plt.ylim([1, 21000])\n",
    "\n",
    "sns.countplot(rated_books['No. Of Ratings'])\n",
    "plt.show()"
   ]
  },
  {
   "cell_type": "code",
   "execution_count": 30,
   "metadata": {
    "colab": {
     "base_uri": "https://localhost:8080/"
    },
    "executionInfo": {
     "elapsed": 18,
     "status": "ok",
     "timestamp": 1634705562200,
     "user": {
      "displayName": "MUKUND SHAH",
      "photoUrl": "https://lh3.googleusercontent.com/a/default-user=s64",
      "userId": "14017176555101206981"
     },
     "user_tz": -330
    },
    "id": "Tza965aHCuzj",
    "outputId": "f66958fb-27f0-4929-d6ec-97cd9778dbeb"
   },
   "outputs": [
    {
     "data": {
      "text/plain": [
       "296791"
      ]
     },
     "execution_count": 30,
     "metadata": {},
     "output_type": "execute_result"
    }
   ],
   "source": [
    "rated_books[rated_books['No. Of Ratings']<5].shape[0]  ### more than half books rated by only one individual and around 90% books are rated by less than 5 individual\n",
    "#we have to consider no. of rating also as parametere for considering top rated book as if one individual give full rating to abook cant considered as best book for all\n",
    "#for that we will try to figure out how much minimum no. of rating we should conider"
   ]
  },
  {
   "cell_type": "code",
   "execution_count": 31,
   "metadata": {
    "executionInfo": {
     "elapsed": 13,
     "status": "ok",
     "timestamp": 1634705562202,
     "user": {
      "displayName": "MUKUND SHAH",
      "photoUrl": "https://lh3.googleusercontent.com/a/default-user=s64",
      "userId": "14017176555101206981"
     },
     "user_tz": -330
    },
    "id": "935MF19_Cuzj"
   },
   "outputs": [],
   "source": [
    "### Most of the books are rated by very less peoples"
   ]
  },
  {
   "cell_type": "code",
   "execution_count": 32,
   "metadata": {
    "executionInfo": {
     "elapsed": 12,
     "status": "ok",
     "timestamp": 1634705562203,
     "user": {
      "displayName": "MUKUND SHAH",
      "photoUrl": "https://lh3.googleusercontent.com/a/default-user=s64",
      "userId": "14017176555101206981"
     },
     "user_tz": -330
    },
    "id": "o9jxwW-fCuzk"
   },
   "outputs": [],
   "source": [
    "r_data = rated_books[rated_books['No. Of Ratings']<10]"
   ]
  },
  {
   "cell_type": "code",
   "execution_count": 33,
   "metadata": {
    "colab": {
     "base_uri": "https://localhost:8080/",
     "height": 0
    },
    "executionInfo": {
     "elapsed": 9582,
     "status": "ok",
     "timestamp": 1634705571774,
     "user": {
      "displayName": "MUKUND SHAH",
      "photoUrl": "https://lh3.googleusercontent.com/a/default-user=s64",
      "userId": "14017176555101206981"
     },
     "user_tz": -330
    },
    "id": "YVs69iDaCuzk",
    "outputId": "83dd2b46-5f1b-46d8-ed3c-67a211f8a02e",
    "scrolled": false
   },
   "outputs": [
    {
     "data": {
      "text/plain": [
       "<matplotlib.axes._subplots.AxesSubplot at 0x7fb16f41a890>"
      ]
     },
     "execution_count": 33,
     "metadata": {},
     "output_type": "execute_result"
    },
    {
     "data": {
      "image/png": "[encoded data removed]",
      "text/plain": [
       "<Figure size 432x288 with 1 Axes>"
      ]
     },
     "metadata": {
      "needs_background": "light"
     },
     "output_type": "display_data"
    }
   ],
   "source": [
    "r_data['No. Of Ratings'].plot(kind='density')"
   ]
  },
  {
   "cell_type": "code",
   "execution_count": 34,
   "metadata": {
    "executionInfo": {
     "elapsed": 21,
     "status": "ok",
     "timestamp": 1634705571775,
     "user": {
      "displayName": "MUKUND SHAH",
      "photoUrl": "https://lh3.googleusercontent.com/a/default-user=s64",
      "userId": "14017176555101206981"
     },
     "user_tz": -330
    },
    "id": "DHsOcsjZCuzk"
   },
   "outputs": [],
   "source": [
    "## Books with less no. of ratings are comparably larger than smaller for initial values and become almost constant at smaller level at higher rating"
   ]
  },
  {
   "cell_type": "code",
   "execution_count": 35,
   "metadata": {
    "executionInfo": {
     "elapsed": 19,
     "status": "ok",
     "timestamp": 1634705571777,
     "user": {
      "displayName": "MUKUND SHAH",
      "photoUrl": "https://lh3.googleusercontent.com/a/default-user=s64",
      "userId": "14017176555101206981"
     },
     "user_tz": -330
    },
    "id": "mxYndMheCuzk"
   },
   "outputs": [],
   "source": [
    "##We try to generate a plot where on y axis we have No. of ratings and x axis have no. of books that have less no.of rating than that"
   ]
  },
  {
   "cell_type": "code",
   "execution_count": 36,
   "metadata": {
    "executionInfo": {
     "elapsed": 9162,
     "status": "ok",
     "timestamp": 1634705580922,
     "user": {
      "displayName": "MUKUND SHAH",
      "photoUrl": "https://lh3.googleusercontent.com/a/default-user=s64",
      "userId": "14017176555101206981"
     },
     "user_tz": -330
    },
    "id": "VZ2xnUvbCuzk",
    "scrolled": true
   },
   "outputs": [],
   "source": [
    "table = np.arange(10,3000,10)\n",
    "values = []\n",
    "for i in table:\n",
    "    values.append(rated_books[rated_books['No. Of Ratings']<i].shape[0] ) "
   ]
  },
  {
   "cell_type": "code",
   "execution_count": 37,
   "metadata": {
    "colab": {
     "base_uri": "https://localhost:8080/",
     "height": 0
    },
    "executionInfo": {
     "elapsed": 40,
     "status": "ok",
     "timestamp": 1634705580937,
     "user": {
      "displayName": "MUKUND SHAH",
      "photoUrl": "https://lh3.googleusercontent.com/a/default-user=s64",
      "userId": "14017176555101206981"
     },
     "user_tz": -330
    },
    "id": "MX12RCGTCuzl",
    "outputId": "bbe5f239-389d-4260-e52d-2e2620865e76",
    "scrolled": true
   },
   "outputs": [
    {
     "data": {
      "text/plain": [
       "(10.0, 100.0)"
      ]
     },
     "execution_count": 37,
     "metadata": {},
     "output_type": "execute_result"
    },
    {
     "data": {
      "image/png": "[encoded data removed]",
      "text/plain": [
       "<Figure size 432x288 with 1 Axes>"
      ]
     },
     "metadata": {
      "needs_background": "light"
     },
     "output_type": "display_data"
    }
   ],
   "source": [
    "plt.plot(table, values) \n",
    "plt.ylim([317500,344000])\n",
    "plt.xlim([10,100])"
   ]
  },
  {
   "cell_type": "code",
   "execution_count": 38,
   "metadata": {
    "executionInfo": {
     "elapsed": 28,
     "status": "ok",
     "timestamp": 1634705580939,
     "user": {
      "displayName": "MUKUND SHAH",
      "photoUrl": "https://lh3.googleusercontent.com/a/default-user=s64",
      "userId": "14017176555101206981"
     },
     "user_tz": -330
    },
    "id": "G09YLabgCuzl"
   },
   "outputs": [],
   "source": [
    "##after 40 the no. of ratings becoming constant i.e. 40 is our thershold means books after considerable for rating analysis as books have less fluctuation no. of rating after that "
   ]
  },
  {
   "cell_type": "code",
   "execution_count": 39,
   "metadata": {
    "colab": {
     "base_uri": "https://localhost:8080/"
    },
    "executionInfo": {
     "elapsed": 27,
     "status": "ok",
     "timestamp": 1634705580940,
     "user": {
      "displayName": "MUKUND SHAH",
      "photoUrl": "https://lh3.googleusercontent.com/a/default-user=s64",
      "userId": "14017176555101206981"
     },
     "user_tz": -330
    },
    "id": "9_MPB3oWCuzl",
    "outputId": "f6c44deb-238f-424d-fe61-1278debbaa26"
   },
   "outputs": [
    {
     "name": "stderr",
     "output_type": "stream",
     "text": [
      "/usr/local/lib/python3.7/dist-packages/ipykernel_launcher.py:1: UserWarning: Boolean Series key will be reindexed to match DataFrame index.\n",
      "  \"\"\"Entry point for launching an IPython kernel.\n"
     ]
    }
   ],
   "source": [
    "top_books = rated_books[rated_books['No. Of Ratings']>40][rated_books['Book-Rating']>6]"
   ]
  },
  {
   "cell_type": "code",
   "execution_count": 40,
   "metadata": {
    "colab": {
     "base_uri": "https://localhost:8080/",
     "height": 0
    },
    "executionInfo": {
     "elapsed": 26,
     "status": "ok",
     "timestamp": 1634705580941,
     "user": {
      "displayName": "MUKUND SHAH",
      "photoUrl": "https://lh3.googleusercontent.com/a/default-user=s64",
      "userId": "14017176555101206981"
     },
     "user_tz": -330
    },
    "id": "B2WZWy1zCuzm",
    "outputId": "bc4216e8-da89-4d05-d062-5fb73254b020"
   },
   "outputs": [
    {
     "data": {
      "text/html": [
       "<div>\n",
       "<style scoped>\n",
       "    .dataframe tbody tr th:only-of-type {\n",
       "        vertical-align: middle;\n",
       "    }\n",
       "\n",
       "    .dataframe tbody tr th {\n",
       "        vertical-align: top;\n",
       "    }\n",
       "\n",
       "    .dataframe thead th {\n",
       "        text-align: right;\n",
       "    }\n",
       "</style>\n",
       "<table border=\"1\" class=\"dataframe\">\n",
       "  <thead>\n",
       "    <tr style=\"text-align: right;\">\n",
       "      <th></th>\n",
       "      <th>Book-Rating</th>\n",
       "      <th>No. Of Ratings</th>\n",
       "    </tr>\n",
       "    <tr>\n",
       "      <th>ISBN</th>\n",
       "      <th></th>\n",
       "      <th></th>\n",
       "    </tr>\n",
       "  </thead>\n",
       "  <tbody>\n",
       "    <tr>\n",
       "      <th>0385199570</th>\n",
       "      <td>6.175439</td>\n",
       "      <td>57</td>\n",
       "    </tr>\n",
       "    <tr>\n",
       "      <th>0439064864</th>\n",
       "      <td>6.611765</td>\n",
       "      <td>170</td>\n",
       "    </tr>\n",
       "    <tr>\n",
       "      <th>0439136350</th>\n",
       "      <td>6.467005</td>\n",
       "      <td>197</td>\n",
       "    </tr>\n",
       "    <tr>\n",
       "      <th>0439139597</th>\n",
       "      <td>6.541237</td>\n",
       "      <td>194</td>\n",
       "    </tr>\n",
       "    <tr>\n",
       "      <th>0590353403</th>\n",
       "      <td>6.363095</td>\n",
       "      <td>168</td>\n",
       "    </tr>\n",
       "    <tr>\n",
       "      <th>0618002227</th>\n",
       "      <td>6.206349</td>\n",
       "      <td>63</td>\n",
       "    </tr>\n",
       "    <tr>\n",
       "      <th>0747546290</th>\n",
       "      <td>6.048780</td>\n",
       "      <td>41</td>\n",
       "    </tr>\n",
       "    <tr>\n",
       "      <th>0877017883</th>\n",
       "      <td>6.041667</td>\n",
       "      <td>72</td>\n",
       "    </tr>\n",
       "    <tr>\n",
       "      <th>1844262553</th>\n",
       "      <td>7.962963</td>\n",
       "      <td>54</td>\n",
       "    </tr>\n",
       "  </tbody>\n",
       "</table>\n",
       "</div>"
      ],
      "text/plain": [
       "            Book-Rating  No. Of Ratings\n",
       "ISBN                                   \n",
       "0385199570     6.175439              57\n",
       "0439064864     6.611765             170\n",
       "0439136350     6.467005             197\n",
       "0439139597     6.541237             194\n",
       "0590353403     6.363095             168\n",
       "0618002227     6.206349              63\n",
       "0747546290     6.048780              41\n",
       "0877017883     6.041667              72\n",
       "1844262553     7.962963              54"
      ]
     },
     "execution_count": 40,
     "metadata": {},
     "output_type": "execute_result"
    }
   ],
   "source": [
    "top_books"
   ]
  },
  {
   "cell_type": "code",
   "execution_count": 41,
   "metadata": {
    "executionInfo": {
     "elapsed": 24,
     "status": "ok",
     "timestamp": 1634705580942,
     "user": {
      "displayName": "MUKUND SHAH",
      "photoUrl": "https://lh3.googleusercontent.com/a/default-user=s64",
      "userId": "14017176555101206981"
     },
     "user_tz": -330
    },
    "id": "W4h_6K1_Cuzm"
   },
   "outputs": [],
   "source": [
    "# we can change above thershold of 40 and 6 to alter the no. of books its thumb rule but working fine here"
   ]
  },
  {
   "cell_type": "code",
   "execution_count": 42,
   "metadata": {
    "executionInfo": {
     "elapsed": 1209,
     "status": "ok",
     "timestamp": 1634705582128,
     "user": {
      "displayName": "MUKUND SHAH",
      "photoUrl": "https://lh3.googleusercontent.com/a/default-user=s64",
      "userId": "14017176555101206981"
     },
     "user_tz": -330
    },
    "id": "8mIPul-ACuzm"
   },
   "outputs": [],
   "source": [
    "list_top= []\n",
    "for i in top_books.index:\n",
    "    list_top.append(books_data[books_data[\"ISBN\"]==i])"
   ]
  },
  {
   "cell_type": "code",
   "execution_count": 43,
   "metadata": {
    "colab": {
     "base_uri": "https://localhost:8080/"
    },
    "executionInfo": {
     "elapsed": 89,
     "status": "ok",
     "timestamp": 1634705582130,
     "user": {
      "displayName": "MUKUND SHAH",
      "photoUrl": "https://lh3.googleusercontent.com/a/default-user=s64",
      "userId": "14017176555101206981"
     },
     "user_tz": -330
    },
    "id": "T0aMf_mQCuzm",
    "outputId": "bdec5292-bb39-443c-d1ea-96ee854f465f"
   },
   "outputs": [
    {
     "data": {
      "text/plain": [
       "[            ISBN  ...        Publisher\n",
       " 3357  0385199570  ...  Doubleday Books\n",
       " \n",
       " [1 rows x 5 columns],             ISBN  ...   Publisher\n",
       " 5432  0439064864  ...  Scholastic\n",
       " \n",
       " [1 rows x 5 columns],             ISBN  ...   Publisher\n",
       " 3839  0439136350  ...  Scholastic\n",
       " \n",
       " [1 rows x 5 columns],             ISBN  ...   Publisher\n",
       " 5431  0439139597  ...  Scholastic\n",
       " \n",
       " [1 rows x 5 columns],             ISBN  ...   Publisher\n",
       " 2809  0590353403  ...  Scholastic\n",
       " \n",
       " [1 rows x 5 columns],              ISBN  ...                 Publisher\n",
       " 12763  0618002227  ...  Houghton Mifflin Company\n",
       " \n",
       " [1 rows x 5 columns], Empty DataFrame\n",
       " Columns: [ISBN, Book-Title, Book-Author, Year-Of-Publication, Publisher]\n",
       " Index: [],              ISBN  ...        Publisher\n",
       " 19640  0877017883  ...  Chronicle Books\n",
       " \n",
       " [1 rows x 5 columns],             ISBN Book-Title  ... Year-Of-Publication           Publisher\n",
       " 3028  1844262553       Free  ...                2003  Upfront Publishing\n",
       " \n",
       " [1 rows x 5 columns]]"
      ]
     },
     "execution_count": 43,
     "metadata": {},
     "output_type": "execute_result"
    }
   ],
   "source": [
    "list_top"
   ]
  },
  {
   "cell_type": "markdown",
   "metadata": {
    "id": "oIeisL0zCuzn"
   },
   "source": [
    "## Simmilar Users find "
   ]
  },
  {
   "cell_type": "code",
   "execution_count": 44,
   "metadata": {
    "colab": {
     "base_uri": "https://localhost:8080/",
     "height": 417
    },
    "executionInfo": {
     "elapsed": 85,
     "status": "ok",
     "timestamp": 1634705582133,
     "user": {
      "displayName": "MUKUND SHAH",
      "photoUrl": "https://lh3.googleusercontent.com/a/default-user=s64",
      "userId": "14017176555101206981"
     },
     "user_tz": -330
    },
    "id": "JvyiG9xACuzn",
    "outputId": "7531da30-9dd1-46ff-d729-d7335b5bbbc1"
   },
   "outputs": [
    {
     "data": {
      "text/html": [
       "<div>\n",
       "<style scoped>\n",
       "    .dataframe tbody tr th:only-of-type {\n",
       "        vertical-align: middle;\n",
       "    }\n",
       "\n",
       "    .dataframe tbody tr th {\n",
       "        vertical-align: top;\n",
       "    }\n",
       "\n",
       "    .dataframe thead th {\n",
       "        text-align: right;\n",
       "    }\n",
       "</style>\n",
       "<table border=\"1\" class=\"dataframe\">\n",
       "  <thead>\n",
       "    <tr style=\"text-align: right;\">\n",
       "      <th></th>\n",
       "      <th>User-ID</th>\n",
       "      <th>Location</th>\n",
       "      <th>Age</th>\n",
       "    </tr>\n",
       "  </thead>\n",
       "  <tbody>\n",
       "    <tr>\n",
       "      <th>0</th>\n",
       "      <td>1</td>\n",
       "      <td>nyc, new york, usa</td>\n",
       "      <td>NaN</td>\n",
       "    </tr>\n",
       "    <tr>\n",
       "      <th>1</th>\n",
       "      <td>2</td>\n",
       "      <td>stockton, california, usa</td>\n",
       "      <td>18.0</td>\n",
       "    </tr>\n",
       "    <tr>\n",
       "      <th>2</th>\n",
       "      <td>3</td>\n",
       "      <td>moscow, yukon territory, russia</td>\n",
       "      <td>NaN</td>\n",
       "    </tr>\n",
       "    <tr>\n",
       "      <th>3</th>\n",
       "      <td>4</td>\n",
       "      <td>porto, v.n.gaia, portugal</td>\n",
       "      <td>17.0</td>\n",
       "    </tr>\n",
       "    <tr>\n",
       "      <th>4</th>\n",
       "      <td>5</td>\n",
       "      <td>farnborough, hants, united kingdom</td>\n",
       "      <td>NaN</td>\n",
       "    </tr>\n",
       "    <tr>\n",
       "      <th>...</th>\n",
       "      <td>...</td>\n",
       "      <td>...</td>\n",
       "      <td>...</td>\n",
       "    </tr>\n",
       "    <tr>\n",
       "      <th>278853</th>\n",
       "      <td>278854</td>\n",
       "      <td>portland, oregon, usa</td>\n",
       "      <td>NaN</td>\n",
       "    </tr>\n",
       "    <tr>\n",
       "      <th>278854</th>\n",
       "      <td>278855</td>\n",
       "      <td>tacoma, washington, united kingdom</td>\n",
       "      <td>50.0</td>\n",
       "    </tr>\n",
       "    <tr>\n",
       "      <th>278855</th>\n",
       "      <td>278856</td>\n",
       "      <td>brampton, ontario, canada</td>\n",
       "      <td>NaN</td>\n",
       "    </tr>\n",
       "    <tr>\n",
       "      <th>278856</th>\n",
       "      <td>278857</td>\n",
       "      <td>knoxville, tennessee, usa</td>\n",
       "      <td>NaN</td>\n",
       "    </tr>\n",
       "    <tr>\n",
       "      <th>278857</th>\n",
       "      <td>278858</td>\n",
       "      <td>dublin, n/a, ireland</td>\n",
       "      <td>NaN</td>\n",
       "    </tr>\n",
       "  </tbody>\n",
       "</table>\n",
       "<p>278858 rows × 3 columns</p>\n",
       "</div>"
      ],
      "text/plain": [
       "        User-ID                            Location   Age\n",
       "0             1                  nyc, new york, usa   NaN\n",
       "1             2           stockton, california, usa  18.0\n",
       "2             3     moscow, yukon territory, russia   NaN\n",
       "3             4           porto, v.n.gaia, portugal  17.0\n",
       "4             5  farnborough, hants, united kingdom   NaN\n",
       "...         ...                                 ...   ...\n",
       "278853   278854               portland, oregon, usa   NaN\n",
       "278854   278855  tacoma, washington, united kingdom  50.0\n",
       "278855   278856           brampton, ontario, canada   NaN\n",
       "278856   278857           knoxville, tennessee, usa   NaN\n",
       "278857   278858                dublin, n/a, ireland   NaN\n",
       "\n",
       "[278858 rows x 3 columns]"
      ]
     },
     "execution_count": 44,
     "metadata": {},
     "output_type": "execute_result"
    }
   ],
   "source": [
    "users_data"
   ]
  },
  {
   "cell_type": "code",
   "execution_count": 45,
   "metadata": {
    "colab": {
     "base_uri": "https://localhost:8080/"
    },
    "executionInfo": {
     "elapsed": 84,
     "status": "ok",
     "timestamp": 1634705582136,
     "user": {
      "displayName": "MUKUND SHAH",
      "photoUrl": "https://lh3.googleusercontent.com/a/default-user=s64",
      "userId": "14017176555101206981"
     },
     "user_tz": -330
    },
    "id": "yXEQ2zj5Cuzn",
    "outputId": "a54c3579-c68e-40d3-e151-5365906d909e"
   },
   "outputs": [
    {
     "data": {
      "text/plain": [
       "110762"
      ]
     },
     "execution_count": 45,
     "metadata": {},
     "output_type": "execute_result"
    }
   ],
   "source": [
    "users_data.Age.isna().sum()    "
   ]
  },
  {
   "cell_type": "code",
   "execution_count": 46,
   "metadata": {
    "colab": {
     "base_uri": "https://localhost:8080/",
     "height": 282
    },
    "executionInfo": {
     "elapsed": 78,
     "status": "ok",
     "timestamp": 1634705582137,
     "user": {
      "displayName": "MUKUND SHAH",
      "photoUrl": "https://lh3.googleusercontent.com/a/default-user=s64",
      "userId": "14017176555101206981"
     },
     "user_tz": -330
    },
    "id": "kLguTeySCuzn",
    "outputId": "eaa03b0c-e4c7-49b5-d730-bdc5e555aea5"
   },
   "outputs": [
    {
     "data": {
      "text/plain": [
       "<matplotlib.axes._subplots.AxesSubplot at 0x7fb16f36b590>"
      ]
     },
     "execution_count": 46,
     "metadata": {},
     "output_type": "execute_result"
    },
    {
     "data": {
      "image/png": "[encoded data removed]",
      "text/plain": [
       "<Figure size 432x288 with 1 Axes>"
      ]
     },
     "metadata": {
      "needs_background": "light"
     },
     "output_type": "display_data"
    }
   ],
   "source": [
    "users_data.Age.plot(kind = 'box')"
   ]
  },
  {
   "cell_type": "code",
   "execution_count": 47,
   "metadata": {
    "colab": {
     "base_uri": "https://localhost:8080/",
     "height": 417
    },
    "executionInfo": {
     "elapsed": 72,
     "status": "ok",
     "timestamp": 1634705582139,
     "user": {
      "displayName": "MUKUND SHAH",
      "photoUrl": "https://lh3.googleusercontent.com/a/default-user=s64",
      "userId": "14017176555101206981"
     },
     "user_tz": -330
    },
    "id": "hEKsAcNvCuzn",
    "outputId": "8552354b-ed4e-4083-c98f-337aebf6bfc5"
   },
   "outputs": [
    {
     "data": {
      "text/html": [
       "<div>\n",
       "<style scoped>\n",
       "    .dataframe tbody tr th:only-of-type {\n",
       "        vertical-align: middle;\n",
       "    }\n",
       "\n",
       "    .dataframe tbody tr th {\n",
       "        vertical-align: top;\n",
       "    }\n",
       "\n",
       "    .dataframe thead th {\n",
       "        text-align: right;\n",
       "    }\n",
       "</style>\n",
       "<table border=\"1\" class=\"dataframe\">\n",
       "  <thead>\n",
       "    <tr style=\"text-align: right;\">\n",
       "      <th></th>\n",
       "      <th>User-ID</th>\n",
       "      <th>Location</th>\n",
       "      <th>Age</th>\n",
       "    </tr>\n",
       "  </thead>\n",
       "  <tbody>\n",
       "    <tr>\n",
       "      <th>1288</th>\n",
       "      <td>1289</td>\n",
       "      <td>san jose, california, usa</td>\n",
       "      <td>103.0</td>\n",
       "    </tr>\n",
       "    <tr>\n",
       "      <th>1322</th>\n",
       "      <td>1323</td>\n",
       "      <td>milano, lombardia, italy</td>\n",
       "      <td>104.0</td>\n",
       "    </tr>\n",
       "    <tr>\n",
       "      <th>1578</th>\n",
       "      <td>1579</td>\n",
       "      <td>akure, ondo/nigeria, nigeria</td>\n",
       "      <td>231.0</td>\n",
       "    </tr>\n",
       "    <tr>\n",
       "      <th>3084</th>\n",
       "      <td>3085</td>\n",
       "      <td>zürich, switzerland, switzerland</td>\n",
       "      <td>104.0</td>\n",
       "    </tr>\n",
       "    <tr>\n",
       "      <th>3210</th>\n",
       "      <td>3211</td>\n",
       "      <td>le mesnil saint denis, yvelines, france</td>\n",
       "      <td>119.0</td>\n",
       "    </tr>\n",
       "    <tr>\n",
       "      <th>...</th>\n",
       "      <td>...</td>\n",
       "      <td>...</td>\n",
       "      <td>...</td>\n",
       "    </tr>\n",
       "    <tr>\n",
       "      <th>276047</th>\n",
       "      <td>276048</td>\n",
       "      <td>wien, wien, austria</td>\n",
       "      <td>127.0</td>\n",
       "    </tr>\n",
       "    <tr>\n",
       "      <th>276352</th>\n",
       "      <td>276353</td>\n",
       "      <td>hillsdale, new york, usa</td>\n",
       "      <td>104.0</td>\n",
       "    </tr>\n",
       "    <tr>\n",
       "      <th>277107</th>\n",
       "      <td>277108</td>\n",
       "      <td>quinto, ticino, switzerland</td>\n",
       "      <td>104.0</td>\n",
       "    </tr>\n",
       "    <tr>\n",
       "      <th>277503</th>\n",
       "      <td>277504</td>\n",
       "      <td>san diego, california, usa</td>\n",
       "      <td>103.0</td>\n",
       "    </tr>\n",
       "    <tr>\n",
       "      <th>278301</th>\n",
       "      <td>278302</td>\n",
       "      <td>düsseldorf, nordrhein-westfalen, germany</td>\n",
       "      <td>104.0</td>\n",
       "    </tr>\n",
       "  </tbody>\n",
       "</table>\n",
       "<p>366 rows × 3 columns</p>\n",
       "</div>"
      ],
      "text/plain": [
       "        User-ID                                  Location    Age\n",
       "1288       1289                 san jose, california, usa  103.0\n",
       "1322       1323                  milano, lombardia, italy  104.0\n",
       "1578       1579              akure, ondo/nigeria, nigeria  231.0\n",
       "3084       3085          zürich, switzerland, switzerland  104.0\n",
       "3210       3211   le mesnil saint denis, yvelines, france  119.0\n",
       "...         ...                                       ...    ...\n",
       "276047   276048                       wien, wien, austria  127.0\n",
       "276352   276353                  hillsdale, new york, usa  104.0\n",
       "277107   277108               quinto, ticino, switzerland  104.0\n",
       "277503   277504                san diego, california, usa  103.0\n",
       "278301   278302  düsseldorf, nordrhein-westfalen, germany  104.0\n",
       "\n",
       "[366 rows x 3 columns]"
      ]
     },
     "execution_count": 47,
     "metadata": {},
     "output_type": "execute_result"
    }
   ],
   "source": [
    "users_data[users_data['Age']>100]\n",
    "\n",
    "\n",
    "# about 40% users age sis Unknown\n",
    "# age is taking Unrealistic values like 250,120 \n",
    "# age data is absurd can lead to exploitation of wrong information by model "
   ]
  },
  {
   "cell_type": "code",
   "execution_count": 48,
   "metadata": {
    "colab": {
     "base_uri": "https://localhost:8080/"
    },
    "executionInfo": {
     "elapsed": 68,
     "status": "ok",
     "timestamp": 1634705582140,
     "user": {
      "displayName": "MUKUND SHAH",
      "photoUrl": "https://lh3.googleusercontent.com/a/default-user=s64",
      "userId": "14017176555101206981"
     },
     "user_tz": -330
    },
    "id": "Yzp9a1d4Cuzo",
    "outputId": "dad0c708-2660-4fd5-c302-abba9d5e977e"
   },
   "outputs": [
    {
     "data": {
      "text/plain": [
       "57339"
      ]
     },
     "execution_count": 48,
     "metadata": {},
     "output_type": "execute_result"
    }
   ],
   "source": [
    "len(users_data.Location.unique())"
   ]
  },
  {
   "cell_type": "code",
   "execution_count": 49,
   "metadata": {
    "colab": {
     "base_uri": "https://localhost:8080/"
    },
    "executionInfo": {
     "elapsed": 62,
     "status": "ok",
     "timestamp": 1634705582141,
     "user": {
      "displayName": "MUKUND SHAH",
      "photoUrl": "https://lh3.googleusercontent.com/a/default-user=s64",
      "userId": "14017176555101206981"
     },
     "user_tz": -330
    },
    "id": "zBqlaeVnCuzo",
    "outputId": "03a34719-a0d9-4a18-b4cc-e34ca685e281",
    "scrolled": false
   },
   "outputs": [
    {
     "data": {
      "text/plain": [
       "0"
      ]
     },
     "execution_count": 49,
     "metadata": {},
     "output_type": "execute_result"
    }
   ],
   "source": [
    "users_data.Location.isna().sum()"
   ]
  },
  {
   "cell_type": "code",
   "execution_count": 50,
   "metadata": {
    "executionInfo": {
     "elapsed": 55,
     "status": "ok",
     "timestamp": 1634705582142,
     "user": {
      "displayName": "MUKUND SHAH",
      "photoUrl": "https://lh3.googleusercontent.com/a/default-user=s64",
      "userId": "14017176555101206981"
     },
     "user_tz": -330
    },
    "id": "Ftp04JhcCuzo",
    "scrolled": true
   },
   "outputs": [],
   "source": [
    "location_data = pd.DataFrame(users_data.Location.value_counts())"
   ]
  },
  {
   "cell_type": "code",
   "execution_count": 51,
   "metadata": {
    "executionInfo": {
     "elapsed": 54,
     "status": "ok",
     "timestamp": 1634705582143,
     "user": {
      "displayName": "MUKUND SHAH",
      "photoUrl": "https://lh3.googleusercontent.com/a/default-user=s64",
      "userId": "14017176555101206981"
     },
     "user_tz": -330
    },
    "id": "NDSq2dIYCuzo",
    "scrolled": true
   },
   "outputs": [],
   "source": [
    "def draw_simmilar_location(number_of_user):\n",
    "    simmilar_location_userl5 = location_data[location_data['Location']<number_of_user].sum()/278858*100\n",
    "    simmilar_location_userg5 = location_data[location_data['Location']>=number_of_user].sum()/278858*100\n",
    "    plt.bar(['simmilar_location_userl5', 'simmilar_location_userg5'], [float(simmilar_location_userl5), float(simmilar_location_userg5)])"
   ]
  },
  {
   "cell_type": "code",
   "execution_count": 52,
   "metadata": {
    "colab": {
     "base_uri": "https://localhost:8080/",
     "height": 266
    },
    "executionInfo": {
     "elapsed": 55,
     "status": "ok",
     "timestamp": 1634705582145,
     "user": {
      "displayName": "MUKUND SHAH",
      "photoUrl": "https://lh3.googleusercontent.com/a/default-user=s64",
      "userId": "14017176555101206981"
     },
     "user_tz": -330
    },
    "id": "VTOo0bVmCuzo",
    "outputId": "52056cc4-ad33-4360-db13-a3eeac2f8df0"
   },
   "outputs": [
    {
     "data": {
      "image/png": "[encoded data removed]",
      "text/plain": [
       "<Figure size 432x288 with 1 Axes>"
      ]
     },
     "metadata": {
      "needs_background": "light"
     },
     "output_type": "display_data"
    }
   ],
   "source": [
    "draw_simmilar_location(2)  # 80% have 1atleast 1 simmilar user\n",
    "draw_simmilar_location(5) # almost 75% users have atleast 5 simmilar users\n"
   ]
  },
  {
   "cell_type": "code",
   "execution_count": 53,
   "metadata": {
    "executionInfo": {
     "elapsed": 52,
     "status": "ok",
     "timestamp": 1634705582146,
     "user": {
      "displayName": "MUKUND SHAH",
      "photoUrl": "https://lh3.googleusercontent.com/a/default-user=s64",
      "userId": "14017176555101206981"
     },
     "user_tz": -330
    },
    "id": "M8N9vM1zCuzo"
   },
   "outputs": [],
   "source": [
    "### Location can be an important factor for determining simmilarity among users but age is not ; now our task is to encode these location "
   ]
  },
  {
   "cell_type": "code",
   "execution_count": 54,
   "metadata": {
    "executionInfo": {
     "elapsed": 50,
     "status": "ok",
     "timestamp": 1634705582147,
     "user": {
      "displayName": "MUKUND SHAH",
      "photoUrl": "https://lh3.googleusercontent.com/a/default-user=s64",
      "userId": "14017176555101206981"
     },
     "user_tz": -330
    },
    "id": "JP2yvpbeCuzp"
   },
   "outputs": [],
   "source": [
    "### 2 measures for simmilarity which we have are location and ratings data "
   ]
  },
  {
   "cell_type": "code",
   "execution_count": 55,
   "metadata": {
    "executionInfo": {
     "elapsed": 49,
     "status": "ok",
     "timestamp": 1634705582148,
     "user": {
      "displayName": "MUKUND SHAH",
      "photoUrl": "https://lh3.googleusercontent.com/a/default-user=s64",
      "userId": "14017176555101206981"
     },
     "user_tz": -330
    },
    "id": "3yTKhBjlCuzp"
   },
   "outputs": [],
   "source": [
    "## same locations users are simmilar   ## may provide smaller no. of users\n",
    "## same city users are simmilar         lets see how much they provide \n",
    "## same country uusers are simmilar     lets see how much they provide \n",
    "##for figuring these out we do some manipulation on data so lets copy users_data in new dataframe new"
   ]
  },
  {
   "cell_type": "code",
   "execution_count": 56,
   "metadata": {
    "executionInfo": {
     "elapsed": 51,
     "status": "ok",
     "timestamp": 1634705582151,
     "user": {
      "displayName": "MUKUND SHAH",
      "photoUrl": "https://lh3.googleusercontent.com/a/default-user=s64",
      "userId": "14017176555101206981"
     },
     "user_tz": -330
    },
    "id": "K6R1G8SsCuzp"
   },
   "outputs": [],
   "source": [
    "new = users_data.copy()"
   ]
  },
  {
   "cell_type": "code",
   "execution_count": 57,
   "metadata": {
    "executionInfo": {
     "elapsed": 1310,
     "status": "ok",
     "timestamp": 1634705583412,
     "user": {
      "displayName": "MUKUND SHAH",
      "photoUrl": "https://lh3.googleusercontent.com/a/default-user=s64",
      "userId": "14017176555101206981"
     },
     "user_tz": -330
    },
    "id": "HLAaHkBqCuzp"
   },
   "outputs": [],
   "source": [
    "new['country'] = new['Location'].apply(lambda x : x.split(',')[-1])\n"
   ]
  },
  {
   "cell_type": "code",
   "execution_count": 58,
   "metadata": {
    "colab": {
     "base_uri": "https://localhost:8080/"
    },
    "executionInfo": {
     "elapsed": 64,
     "status": "ok",
     "timestamp": 1634705583413,
     "user": {
      "displayName": "MUKUND SHAH",
      "photoUrl": "https://lh3.googleusercontent.com/a/default-user=s64",
      "userId": "14017176555101206981"
     },
     "user_tz": -330
    },
    "id": "rv-h1BudCuzp",
    "outputId": "bab472bf-980b-492a-a566-be3d2a085223"
   },
   "outputs": [
    {
     "data": {
      "text/plain": [
       " usa                  True\n",
       " canada               True\n",
       " united kingdom       True\n",
       " germany              True\n",
       " spain                True\n",
       "                     ...  \n",
       " prc                 False\n",
       " windham             False\n",
       " europa              False\n",
       " northern ireland    False\n",
       " canda               False\n",
       "Name: Location, Length: 709, dtype: bool"
      ]
     },
     "execution_count": 58,
     "metadata": {},
     "output_type": "execute_result"
    }
   ],
   "source": [
    "users_in_countries = new['Location'].apply(lambda x : x.split(',')[-1]).value_counts()\n",
    "(users_in_countries>100)"
   ]
  },
  {
   "cell_type": "code",
   "execution_count": 59,
   "metadata": {
    "colab": {
     "base_uri": "https://localhost:8080/"
    },
    "executionInfo": {
     "elapsed": 64,
     "status": "ok",
     "timestamp": 1634705583419,
     "user": {
      "displayName": "MUKUND SHAH",
      "photoUrl": "https://lh3.googleusercontent.com/a/default-user=s64",
      "userId": "14017176555101206981"
     },
     "user_tz": -330
    },
    "id": "n-rICcs9Cuzp",
    "outputId": "9ce7ab92-a661-4857-9090-21dcb24d2fd7"
   },
   "outputs": [
    {
     "data": {
      "text/plain": [
       "array([' usa', ' russia', ' portugal', ' united kingdom', ' canada',\n",
       "       ' spain', ' australia', ' brazil', '', ' germany', ' mexico',\n",
       "       ' china', ' italy', ' distrito federal', ' france', ' netherlands',\n",
       "       ' iraq', ' finland', ' new zealand', ' india', ' ghana',\n",
       "       ' switzerland', ' slovenia', ' iran', ' peru',\n",
       "       ' bosnia and herzegovina', ' vietnam', ' sri lanka', ' pakistan',\n",
       "       ' denmark', ' belgium', ' malaysia', ' u.a.e', ' turkey',\n",
       "       ' philippines', ' greece', ' colombia', ' norway', ' kuwait',\n",
       "       ' chile', ' quit', ' lj', ' taiwan', ' denmark\"', ' españa',\n",
       "       ' sweden', ' argentina', ' nigeria', ' london', ' bulgaria',\n",
       "       ' austria', ' romania', ' singapore', ' albania', ' egypt',\n",
       "       ' tunisia', ' uzbekistan', ' qatar', ' syria', ' saudi arabia',\n",
       "       ' indonesia', ' sudan', ' somewherein space', ' poland',\n",
       "       ' thailand', ' ireland', ' malaysia\"', ' venezuela', ' paraguay',\n",
       "       ' mozambique', ' morocco', ' afghanistan', ' estonia',\n",
       "       ' clackamas', ' spain\"', '\"', ' lesotho', ' yugoslavia',\n",
       "       ' slovakia', ' costa rica', ' basque country',\n",
       "       ' british virgin islands', ' ethiopia', ' croatia',\n",
       "       ' united kingdom\"', ' portugal\"', ' israel', ' japan', ' israel\"',\n",
       "       ' iceland', ' the', ' south africa', ' iran\"', ' cuba',\n",
       "       ' antigua and barbuda', ' calabria', ' alderney', ' puerto rico',\n",
       "       ' hong kong', ' nigeria\"', ' latvia', ' jersey', ' germany\"',\n",
       "       ' luxembourg', ' belarus', ' cape verde\"', ' lithuania', ' guyana',\n",
       "       ' scotland', ' n/a', ' jordan', ' la argentina', ' angola',\n",
       "       ' algeria', ' andorra', ' kyrgyzstan', ' panama', ' csa',\n",
       "       ' ecuador', ' phils', ' kazakhstan', ' dominican republic',\n",
       "       ' turkey\"', ' brunei', ' bangladesh', ' monterrey', ' bahrain',\n",
       "       ' united arab emirates', ' urugua', ' uruguay', ' l`italia',\n",
       "       ' finland\"', ' honduras', ' georgia', ' dominica', ' malta',\n",
       "       ' india\"', ' faroe islands', ' east africa', ' france\"',\n",
       "       ' sierra leone', ' guatemala', ' mali', ' czech republic',\n",
       "       ' space', ' romania\"', ' south korea', ' rwanda',\n",
       "       ' trinidad and tobago', ' norway\"', ' yemen', ' cyprus',\n",
       "       ' the philippines', ' öð¹ú', ' la france', ' eritrea', ' bahamas',\n",
       "       ' cameroon', ' nicaragua', ' zambia', ' bolivia', ' maroc',\n",
       "       ' isreal', ' belize', ' fernando de la mora', ' namibia',\n",
       "       ' macedonia', ' argentina\"', ' botswana', ' queenspark', ' monaco',\n",
       "       ' samoa', ' brasil', ' 19104', ' guernsey', ' euskal herria',\n",
       "       ' bermuda', ' barbados', ' trinidad', ' england', ' armenia',\n",
       "       ' hungary', ' deutschland', ' netherlands\"', ' austria\"',\n",
       "       ' cayman islands', ' ukraine', ' sweden\"', ' new zealand\"',\n",
       "       ' minnehaha', ' azerbaijan', ' galiza', ' de', ' switzerland\"',\n",
       "       ' suriname', ' doodedoo', ' jamaica', ' caribbean sea',\n",
       "       ' &#32654;&#22269;', ' u.s. virgin islands', ' u.s. of a.',\n",
       "       ' afganstand holla !!', ' catalunya', ' kosovo',\n",
       "       ' serbia & montenegro', ' somalia', ' moldova', ' pakistan.',\n",
       "       ' bangladesh\"', ' -------', ' trinidad & tobago', ' tanzania',\n",
       "       ' burma', ' uk', ' ghana\"', ' turkei', ' ksa', ' tajikistan',\n",
       "       ' nepal', ' sri lanka\\\\\"n/a\\\\\"\"', ' valtesse', ' lebanon',\n",
       "       ' cote d`ivoire', ' maldives', ' catalunya(catalonia)',\n",
       "       ' mã?â©xico', ' nederlands', ' tdzimi', ' peru\"', ' hong kong\"',\n",
       "       ' oman', ' saint vincent and the grenadines\"', ' lleida',\n",
       "       ' antarctica', ' itlay', ' u.s.a.', ' palau', ' belgique',\n",
       "       ' st. vincent and the grenadines', ' deutsches reich',\n",
       "       ' catalonia', ' micronesia', ' kenya', ' collin', ' zhengjiang',\n",
       "       ' grenada', ' bhutan', ' baxter', ' guinea-bissau',\n",
       "       ' cote d`ivoire\"', ' evil empire', ' wales', ' mongolia',\n",
       "       ' hennipen', ' equatorial geuinea', ' italy\"', ' italia', ' rice',\n",
       "       ' good old usa !', ' philippines\"', ' polska', ' missouri',\n",
       "       ' goteborg', ' united states', ' senegal', ' bbbzzzzz',\n",
       "       ' saint lucia', ' zimbabwe', ' cass', ' baltimore', ' hampden',\n",
       "       ' thailand\"', ' ust', ' ama lurra', ' polk', ' hamilton', ' fiji',\n",
       "       ' bernalillo', ' effingham', ' lake', ' catalunya spain', ' *',\n",
       "       ' windham', ' belgium\"', ' ireland\"', ' papua new guinea',\n",
       "       ' costa rica\"', ' laos', ' slovakia\"', ' united stated',\n",
       "       ' the great white north', ' brazil\"',\n",
       "       ' saint vincent and the grenadines', ' burkina faso',\n",
       "       ' philippine', ' auckland', ' ?ú?{', ' c', ' gabon', ' pasco',\n",
       "       ' united states of america', ' ferrara', ' morgan', ' milano',\n",
       "       ' europe', ' slo', ' lkjlj', ' north korea', ' marrion',\n",
       "       ' commonwealth of northern mariana islands', ' mauritius',\n",
       "       ' benin', ' colombia\"', ' cnina', ' holy see', ' haiti', ' cn',\n",
       "       ' holland', ' jackson', ' cherokee', ' espaã?â±a', ' lazio',\n",
       "       ' dekalb', ' la belgique', ' maricopa', ' n/a - on the road',\n",
       "       ' ua', ' chile\"', ' algérie', ' san marino', ' nrw',\n",
       "       ' nyhamnsläge', ' egypt\"', ' aruba', ' richmond country',\n",
       "       ' srilanka', ' el salvador', ' slovenia\"', ' republic of korea',\n",
       "       ' luxembourg\"', ' côte d', ' saint loius', ' croatia\"', ' greece\"',\n",
       "       ' framingham', ' monroe', ' hornyonic', ' ouranos',\n",
       "       ' san bernardino', ' nyc', ' united kindgonm', ' ee.uu',\n",
       "       ' here and there', ' malawi', ' channel islands', ' espaã±a',\n",
       "       ' solomon islands', ' washtenaw', ' libya', ' universe', ' az',\n",
       "       ' suisse', ' uganda', ' la chine éternelle !', ' iceland\"',\n",
       "       ' macau', ' frome', ' brunei darussalam', ' netherlands antilles',\n",
       "       ' niger', ' cape town', ' st. helena', ' sultanate of oman',\n",
       "       ' aroostook', ' fredonia - land of the brave and free', ' china\"',\n",
       "       ' chad', ' la chine éternelle!', ' fifi', ' djibouti', ' america',\n",
       "       ' prince william', ' bademn würtemberg', ' marshall islands',\n",
       "       ' la suisse', ' gb', ' worcester', ' wood', ' rmi', ' hongkong',\n",
       "       ' heaven', ' serbia', ' méxico', ' poland\"', ' cape verde',\n",
       "       ' congo', ' osceola', ' van wert', ' deutschland\"', ' 87510',\n",
       "       ' ä¸\\xadå?½', ' lornsenland', ' hungary\"', ' saudia arabia',\n",
       "       ' dublin', ' pr', ' none', ' p.r.china', ' liberia',\n",
       "       ' usa & canada', ' carter', ' myanmar', ' rapides',\n",
       "       ' american samoa', ' essex', ' sao tome and principe\"', ' -',\n",
       "       ' vietnam\"', ' aaa', ' can', ' sicilia', ' sri lanka\"', ' english',\n",
       "       ' singapore/united kingdom', ' nowhere', ' scotland\"', ' alachua',\n",
       "       ' macedonia\"', ' china öð¹ú', ' czech republic\"', ' lombardia',\n",
       "       ' cambodia', ' vanuatu', ' turkmenistan', ' mérida',\n",
       "       ' antigua & barbuda', ' hillsborough', ' my', ' greece (=hellas)',\n",
       "       ' isle of man', ' san franicsco', ' u.s>', ' u.s.a!', ' 02458',\n",
       "       ' 5057chadwick ct.', ' the netherlands', ' south korea\"',\n",
       "       ' far away...', ' us', ' travelling', ' togo', ' belgi',\n",
       "       ' pinallas', ' sudan\"', ' guatemala\"', ' id', ' k1c7b1', ' orense',\n",
       "       ' rutherford', ' pa', ' bell', ' country', ' australia\"',\n",
       "       ' serbia and montenegro', ' mexico\"', ' .', ' camden', ' dfg',\n",
       "       ' chian', ' strongbadia', ' bfe', ' liaoning', ' united statea',\n",
       "       ' china people`s republic', ' italien', ' clinton',\n",
       "       ' ventura county', ' berguedà', ' basilicata', ' diy', ' ysa',\n",
       "       'lawrenceville', ' input error', ' bladen', ' sardegna',\n",
       "       ' thailoand', ' rosario', ' the world tomorrow', ' perãº',\n",
       "       ' u.s.a>', ' in your heart', ' aotearoa', ' burkinafasu',\n",
       "       ' adsgfdr', ' henry', ' kz', ' singapore\"', ' good old u.s.a.',\n",
       "       ' united stated of america', ' unit', ' rosello', ' granville',\n",
       "       ' england uk', ' trinidad and tobago\"', ' petrolwar nation',\n",
       "       ' guam', ' new london', ' harvatija', ' 23232', ' copenhagen',\n",
       "       ' burma\"', ' canda', ' prc', ' phippines', ' jamaica\"',\n",
       "       ' sardinia', ' u', ' oakland', ' lecce', ' u k', ' moçambique',\n",
       "       ' andorra\"', ' ventura', ' newzealand', ' europa', ' shelby',\n",
       "       ' p.r. china', ' malaysian', ' usa\"', ' fred',\n",
       "       ' usa (currently living in england)', ' tonga', ' roma', ' indiai',\n",
       "       ' cook', ' mordor', ' l`algérie', ' z', ' u.', ' fontana',\n",
       "       ' kiribati', ' australii', ' u.a.e\"', ' libya\"', ' uganda\"',\n",
       "       ' ukrain', ' onondaga nation', ' _ brasil', ' mauritius\"',\n",
       "       ' united kindgdom', ' hungary and usa', ' queensland', ' cananda',\n",
       "       ' pakistan\"', ' austbritania', ' united state', ' solano',\n",
       "       ' unite states', ' vorce', ' c.a.', ' pender',\n",
       "       ' la chine eternelle!', ' vicenza', ' p.r.c', ' xxxxxx',\n",
       "       ' espanha / galiza', ' maracopa', ' palestine', ' il canada',\n",
       "       ' republic of panama', ' phila', ' guinea', ' rsa', ' neverland',\n",
       "       ' west yorkshire', ' smith', ' pueblo', ' northern ireland',\n",
       "       ' pippo', ' türkiye', ' california', ' indonesia\"', ' uyo',\n",
       "       ' spotsylvania', ' der', ' swaziland', ' livingston', ' s.corea',\n",
       "       ' h.u.g.', ' ussurfing', ' phillipines', ' bosnia',\n",
       "       ' exactly where i am', ' cadd0', ' euskadi', ' canada eh', ' l',\n",
       "       ' le canada', ' korea', ' nh', ' uae', ' yanhill',\n",
       "       ' wonderful usa', ' burlington', ' uusa', ' madagascar',\n",
       "       ' rep san marino', ' swazilandia', ' u.k.', ' johnson', ' maine',\n",
       "       ' 30064', ' buncombe', ' bucks', ' santa barbara',\n",
       "       ' trinidad/tobago.', ' houston', ' slovak republik', ' fortaleza',\n",
       "       ' in', ' pistlavakia', ' bavaria', ' s.africa',\n",
       "       ' sao tome and principe', ' europe.', ' saint kitts and nevis',\n",
       "       ' palm beach', ' philippinies', ' north carolina',\n",
       "       ' los estados unidos de norte america', ' russian federation',\n",
       "       ' courtenay', ' mauritania', ' lee', ' comoros', ' hidalgo',\n",
       "       ' morocco\"', ' xinyu', ' lithuania\"', ' orange co', ' texas',\n",
       "       ' baden-württemberg', ' \\\\n/a\\\\\"\"', ' unknown', ' a', ' san mateo',\n",
       "       ' davidson', ' saint luica', ' 85021', ' tobago', ' vatican city',\n",
       "       ' ohio', ' venezuela\"', ' whatcom', ' nz', ' madrid', ' toscana',\n",
       "       ' st. clair', ' butler', ' allen', ' autralia', ' fairyland',\n",
       "       ' we`re global!', ' thing', ' ahrensburg', ' kern', ' tanzania\"',\n",
       "       ' disgruntled states of america', ' cape may', ' the gambia',\n",
       "       ' españa\"', ' united sates', ' \\\\\"n/a\\\\\"\"', ' tyrtyrt',\n",
       "       ' mozambique\"', ' liushi', ' bih', ' w. malaysia', ' st.thomasi',\n",
       "       ' fort bend', ' geermany', ' fulton', ' le madagascar', ' yakima',\n",
       "       ' no more', ' dauphin', ' everywhere and anywhere', ' p r china',\n",
       "       ' citrus.', ' 01776', ' home of the van!!',\n",
       "       ' people`s republic of china', ' lane', ' x', ' chinaöð¹ú',\n",
       "       ' galiza neghra', ' united staes', ' asturies', ' nl',\n",
       "       ' &#20013;&#22269;', ' germay', ' yunling', ' rep. san marino',\n",
       "       ' r.o.c.', ' victoria', ' bkk', ' la svizzera', ' hernando',\n",
       "       ' united kingdom.'], dtype=object)"
      ]
     },
     "execution_count": 59,
     "metadata": {},
     "output_type": "execute_result"
    }
   ],
   "source": [
    "new['country'].unique()"
   ]
  },
  {
   "cell_type": "code",
   "execution_count": 60,
   "metadata": {
    "executionInfo": {
     "elapsed": 58,
     "status": "ok",
     "timestamp": 1634705583421,
     "user": {
      "displayName": "MUKUND SHAH",
      "photoUrl": "https://lh3.googleusercontent.com/a/default-user=s64",
      "userId": "14017176555101206981"
     },
     "user_tz": -330
    },
    "id": "81ot4zoICuzq"
   },
   "outputs": [],
   "source": [
    "###there are so many typos here for the countrys name"
   ]
  },
  {
   "cell_type": "code",
   "execution_count": 61,
   "metadata": {
    "colab": {
     "base_uri": "https://localhost:8080/",
     "height": 674
    },
    "executionInfo": {
     "elapsed": 59,
     "status": "ok",
     "timestamp": 1634705583424,
     "user": {
      "displayName": "MUKUND SHAH",
      "photoUrl": "https://lh3.googleusercontent.com/a/default-user=s64",
      "userId": "14017176555101206981"
     },
     "user_tz": -330
    },
    "id": "jG111q09Cuzq",
    "outputId": "f4f4ed9f-fe7c-45c1-8c01-599e3c553399"
   },
   "outputs": [
    {
     "data": {
      "text/plain": [
       "[<matplotlib.lines.Line2D at 0x7fb16c679d50>]"
      ]
     },
     "execution_count": 61,
     "metadata": {},
     "output_type": "execute_result"
    },
    {
     "data": {
      "image/png": "[encoded data removed]",
      "text/plain": [
       "<Figure size 1080x720 with 1 Axes>"
      ]
     },
     "metadata": {},
     "output_type": "display_data"
    }
   ],
   "source": [
    "plt.figure(figsize=(15,10), facecolor = 'pink', edgecolor = 'blue')\n",
    "plt.xticks(\n",
    "    rotation=45, \n",
    "    horizontalalignment='right',\n",
    "    fontweight='heavy',\n",
    "    fontsize='small'  \n",
    ")\n",
    "plt.ylabel('N. of Users', color= 'red', )\n",
    "plt.xlabel('country', color= 'red', )\n",
    "plt.plot(users_in_countries.head(50).index, users_in_countries.head(50), color = 'green' )\n"
   ]
  },
  {
   "cell_type": "code",
   "execution_count": 62,
   "metadata": {
    "colab": {
     "base_uri": "https://localhost:8080/"
    },
    "executionInfo": {
     "elapsed": 39,
     "status": "ok",
     "timestamp": 1634705583426,
     "user": {
      "displayName": "MUKUND SHAH",
      "photoUrl": "https://lh3.googleusercontent.com/a/default-user=s64",
      "userId": "14017176555101206981"
     },
     "user_tz": -330
    },
    "id": "apAUs_dICuzq",
    "outputId": "fb187615-f8ee-4455-ddf2-f8f61b28f4db"
   },
   "outputs": [
    {
     "data": {
      "text/plain": [
       "244505"
      ]
     },
     "execution_count": 62,
     "metadata": {},
     "output_type": "execute_result"
    }
   ],
   "source": [
    "users_in_countries.head(10).sum()"
   ]
  },
  {
   "cell_type": "code",
   "execution_count": 63,
   "metadata": {
    "colab": {
     "base_uri": "https://localhost:8080/"
    },
    "executionInfo": {
     "elapsed": 35,
     "status": "ok",
     "timestamp": 1634705583428,
     "user": {
      "displayName": "MUKUND SHAH",
      "photoUrl": "https://lh3.googleusercontent.com/a/default-user=s64",
      "userId": "14017176555101206981"
     },
     "user_tz": -330
    },
    "id": "GLKDMxVICuzq",
    "outputId": "bdbc54a9-cec2-4663-f368-9248ed89dfba",
    "scrolled": true
   },
   "outputs": [
    {
     "data": {
      "text/plain": [
       "0.992752583752304"
      ]
     },
     "execution_count": 63,
     "metadata": {},
     "output_type": "execute_result"
    }
   ],
   "source": [
    "276837/new.shape[0]    ### 87% people live in these top 10 countries"
   ]
  },
  {
   "cell_type": "code",
   "execution_count": 64,
   "metadata": {
    "executionInfo": {
     "elapsed": 977,
     "status": "ok",
     "timestamp": 1634705584376,
     "user": {
      "displayName": "MUKUND SHAH",
      "photoUrl": "https://lh3.googleusercontent.com/a/default-user=s64",
      "userId": "14017176555101206981"
     },
     "user_tz": -330
    },
    "id": "OOg8flR5Cuzr"
   },
   "outputs": [],
   "source": [
    "##"
   ]
  },
  {
   "cell_type": "code",
   "execution_count": 65,
   "metadata": {
    "colab": {
     "base_uri": "https://localhost:8080/"
    },
    "executionInfo": {
     "elapsed": 32,
     "status": "ok",
     "timestamp": 1634705584377,
     "user": {
      "displayName": "MUKUND SHAH",
      "photoUrl": "https://lh3.googleusercontent.com/a/default-user=s64",
      "userId": "14017176555101206981"
     },
     "user_tz": -330
    },
    "id": "buRX42g_Cuzr",
    "outputId": "cbbd9c7c-7655-4e63-a1c7-8444f33912b3"
   },
   "outputs": [
    {
     "data": {
      "text/plain": [
       " peru                      140\n",
       " vietnam                   139\n",
       " egypt                     139\n",
       " venezuela                 139\n",
       " bulgaria                  133\n",
       " colombia                  132\n",
       " spain\"                    111\n",
       " luxembourg                104\n",
       " hungary                    97\n",
       " thailand                   86\n",
       " ghana                      79\n",
       " saudi arabia               65\n",
       " portugal\"                  65\n",
       " españa                     63\n",
       " united arab emirates       63\n",
       " bosnia and herzegovina     59\n",
       " sri lanka                  55\n",
       " denmark\"                   52\n",
       " iceland                    52\n",
       " sweden\"                    50\n",
       " paraguay                   46\n",
       "Name: Location, dtype: int64"
      ]
     },
     "execution_count": 65,
     "metadata": {},
     "output_type": "execute_result"
    }
   ],
   "source": [
    "users_in_countries[50:71]"
   ]
  },
  {
   "cell_type": "code",
   "execution_count": 66,
   "metadata": {
    "colab": {
     "base_uri": "https://localhost:8080/"
    },
    "executionInfo": {
     "elapsed": 31,
     "status": "ok",
     "timestamp": 1634705584379,
     "user": {
      "displayName": "MUKUND SHAH",
      "photoUrl": "https://lh3.googleusercontent.com/a/default-user=s64",
      "userId": "14017176555101206981"
     },
     "user_tz": -330
    },
    "id": "WJLMyMvDCuzr",
    "outputId": "f5a89969-173f-4f35-ea2b-bdd1832d4c3c"
   },
   "outputs": [
    {
     "data": {
      "text/plain": [
       " paraguay               46\n",
       " guatemala              45\n",
       " bangladesh             44\n",
       " andorra                42\n",
       " ukraine                42\n",
       " lithuania              41\n",
       " latvia                 40\n",
       " bahamas                40\n",
       " bolivia                39\n",
       " jamaica                37\n",
       " panama                 37\n",
       " ecuador                37\n",
       " kuwait                 37\n",
       " cuba                   36\n",
       " lebanon                36\n",
       " morocco                34\n",
       " la france              34\n",
       " malta                  33\n",
       " trinidad and tobago    33\n",
       " france\"                32\n",
       " scotland               31\n",
       " albania                31\n",
       " dominican republic     31\n",
       " afghanistan            31\n",
       " macedonia              31\n",
       " l`italia               30\n",
       " germany\"               30\n",
       " england                30\n",
       " algeria                29\n",
       " urugua                 29\n",
       "Name: Location, dtype: int64"
      ]
     },
     "execution_count": 66,
     "metadata": {},
     "output_type": "execute_result"
    }
   ],
   "source": [
    "users_in_countries[70:100]"
   ]
  },
  {
   "cell_type": "code",
   "execution_count": 67,
   "metadata": {
    "executionInfo": {
     "elapsed": 23,
     "status": "ok",
     "timestamp": 1634705584380,
     "user": {
      "displayName": "MUKUND SHAH",
      "photoUrl": "https://lh3.googleusercontent.com/a/default-user=s64",
      "userId": "14017176555101206981"
     },
     "user_tz": -330
    },
    "id": "kB5deMpTCuzr"
   },
   "outputs": [],
   "source": [
    "## germany, france apperaing more than once\n",
    "## top 100 coutries which have almost all users so neglecting rest as they have some ambiguity and noises\n",
    "## fill their value of countries with 0 for telling model that countries have no sognificance their\n",
    "## for case of larger user countries we can also conider cities as good parametre for defining sillilarity among users"
   ]
  },
  {
   "cell_type": "code",
   "execution_count": 68,
   "metadata": {
    "colab": {
     "base_uri": "https://localhost:8080/",
     "height": 417
    },
    "executionInfo": {
     "elapsed": 24,
     "status": "ok",
     "timestamp": 1634705584382,
     "user": {
      "displayName": "MUKUND SHAH",
      "photoUrl": "https://lh3.googleusercontent.com/a/default-user=s64",
      "userId": "14017176555101206981"
     },
     "user_tz": -330
    },
    "id": "qSc3K3otCuzr",
    "outputId": "0a7402ac-eb90-4eed-f94e-ce630cec2190"
   },
   "outputs": [
    {
     "data": {
      "text/html": [
       "<div>\n",
       "<style scoped>\n",
       "    .dataframe tbody tr th:only-of-type {\n",
       "        vertical-align: middle;\n",
       "    }\n",
       "\n",
       "    .dataframe tbody tr th {\n",
       "        vertical-align: top;\n",
       "    }\n",
       "\n",
       "    .dataframe thead th {\n",
       "        text-align: right;\n",
       "    }\n",
       "</style>\n",
       "<table border=\"1\" class=\"dataframe\">\n",
       "  <thead>\n",
       "    <tr style=\"text-align: right;\">\n",
       "      <th></th>\n",
       "      <th>User-ID</th>\n",
       "      <th>Location</th>\n",
       "      <th>Age</th>\n",
       "      <th>country</th>\n",
       "    </tr>\n",
       "  </thead>\n",
       "  <tbody>\n",
       "    <tr>\n",
       "      <th>0</th>\n",
       "      <td>1</td>\n",
       "      <td>nyc, new york, usa</td>\n",
       "      <td>NaN</td>\n",
       "      <td>usa</td>\n",
       "    </tr>\n",
       "    <tr>\n",
       "      <th>1</th>\n",
       "      <td>2</td>\n",
       "      <td>stockton, california, usa</td>\n",
       "      <td>18.0</td>\n",
       "      <td>usa</td>\n",
       "    </tr>\n",
       "    <tr>\n",
       "      <th>2</th>\n",
       "      <td>3</td>\n",
       "      <td>moscow, yukon territory, russia</td>\n",
       "      <td>NaN</td>\n",
       "      <td>russia</td>\n",
       "    </tr>\n",
       "    <tr>\n",
       "      <th>3</th>\n",
       "      <td>4</td>\n",
       "      <td>porto, v.n.gaia, portugal</td>\n",
       "      <td>17.0</td>\n",
       "      <td>portugal</td>\n",
       "    </tr>\n",
       "    <tr>\n",
       "      <th>4</th>\n",
       "      <td>5</td>\n",
       "      <td>farnborough, hants, united kingdom</td>\n",
       "      <td>NaN</td>\n",
       "      <td>united kingdom</td>\n",
       "    </tr>\n",
       "    <tr>\n",
       "      <th>...</th>\n",
       "      <td>...</td>\n",
       "      <td>...</td>\n",
       "      <td>...</td>\n",
       "      <td>...</td>\n",
       "    </tr>\n",
       "    <tr>\n",
       "      <th>278853</th>\n",
       "      <td>278854</td>\n",
       "      <td>portland, oregon, usa</td>\n",
       "      <td>NaN</td>\n",
       "      <td>usa</td>\n",
       "    </tr>\n",
       "    <tr>\n",
       "      <th>278854</th>\n",
       "      <td>278855</td>\n",
       "      <td>tacoma, washington, united kingdom</td>\n",
       "      <td>50.0</td>\n",
       "      <td>united kingdom</td>\n",
       "    </tr>\n",
       "    <tr>\n",
       "      <th>278855</th>\n",
       "      <td>278856</td>\n",
       "      <td>brampton, ontario, canada</td>\n",
       "      <td>NaN</td>\n",
       "      <td>canada</td>\n",
       "    </tr>\n",
       "    <tr>\n",
       "      <th>278856</th>\n",
       "      <td>278857</td>\n",
       "      <td>knoxville, tennessee, usa</td>\n",
       "      <td>NaN</td>\n",
       "      <td>usa</td>\n",
       "    </tr>\n",
       "    <tr>\n",
       "      <th>278857</th>\n",
       "      <td>278858</td>\n",
       "      <td>dublin, n/a, ireland</td>\n",
       "      <td>NaN</td>\n",
       "      <td>ireland</td>\n",
       "    </tr>\n",
       "  </tbody>\n",
       "</table>\n",
       "<p>278858 rows × 4 columns</p>\n",
       "</div>"
      ],
      "text/plain": [
       "        User-ID                            Location   Age          country\n",
       "0             1                  nyc, new york, usa   NaN              usa\n",
       "1             2           stockton, california, usa  18.0              usa\n",
       "2             3     moscow, yukon territory, russia   NaN           russia\n",
       "3             4           porto, v.n.gaia, portugal  17.0         portugal\n",
       "4             5  farnborough, hants, united kingdom   NaN   united kingdom\n",
       "...         ...                                 ...   ...              ...\n",
       "278853   278854               portland, oregon, usa   NaN              usa\n",
       "278854   278855  tacoma, washington, united kingdom  50.0   united kingdom\n",
       "278855   278856           brampton, ontario, canada   NaN           canada\n",
       "278856   278857           knoxville, tennessee, usa   NaN              usa\n",
       "278857   278858                dublin, n/a, ireland   NaN          ireland\n",
       "\n",
       "[278858 rows x 4 columns]"
      ]
     },
     "execution_count": 68,
     "metadata": {},
     "output_type": "execute_result"
    }
   ],
   "source": [
    "new.replace({'germany\"':'germany',\n",
    "            'england':'united kingdom',\n",
    "            \"l`italia\":'italy',\n",
    "             'spain\"':'spain',\n",
    "             'portugal\"':'portugal',\n",
    "             'denmark\"':'denmark',\n",
    "             'sweden\"':'sewden',\n",
    "             'france\"':'france'\n",
    "             \n",
    "            })"
   ]
  },
  {
   "cell_type": "code",
   "execution_count": 69,
   "metadata": {
    "executionInfo": {
     "elapsed": 24,
     "status": "ok",
     "timestamp": 1634705584384,
     "user": {
      "displayName": "MUKUND SHAH",
      "photoUrl": "https://lh3.googleusercontent.com/a/default-user=s64",
      "userId": "14017176555101206981"
     },
     "user_tz": -330
    },
    "id": "ItvYWZ-qCuzr"
   },
   "outputs": [],
   "source": [
    "top_100_countries = list(users_in_countries.head(100).index)"
   ]
  },
  {
   "cell_type": "code",
   "execution_count": 70,
   "metadata": {
    "executionInfo": {
     "elapsed": 618,
     "status": "ok",
     "timestamp": 1634705584979,
     "user": {
      "displayName": "MUKUND SHAH",
      "photoUrl": "https://lh3.googleusercontent.com/a/default-user=s64",
      "userId": "14017176555101206981"
     },
     "user_tz": -330
    },
    "id": "pmR4vwVKCuzs",
    "scrolled": false
   },
   "outputs": [],
   "source": [
    "i=1\n",
    "for country in top_100_countries:\n",
    "    new['country'].replace(country, i, inplace = True)\n",
    "    i = i+1"
   ]
  },
  {
   "cell_type": "code",
   "execution_count": 71,
   "metadata": {
    "colab": {
     "base_uri": "https://localhost:8080/"
    },
    "executionInfo": {
     "elapsed": 3133,
     "status": "ok",
     "timestamp": 1634705588102,
     "user": {
      "displayName": "MUKUND SHAH",
      "photoUrl": "https://lh3.googleusercontent.com/a/default-user=s64",
      "userId": "14017176555101206981"
     },
     "user_tz": -330
    },
    "id": "49leHOIHCuzs",
    "outputId": "c86fbc7e-a08d-4200-b532-689897aeabc1"
   },
   "outputs": [
    {
     "name": "stderr",
     "output_type": "stream",
     "text": [
      "/usr/local/lib/python3.7/dist-packages/ipykernel_launcher.py:3: SettingWithCopyWarning: \n",
      "A value is trying to be set on a copy of a slice from a DataFrame\n",
      "\n",
      "See the caveats in the documentation: https://pandas.pydata.org/pandas-docs/stable/user_guide/indexing.html#returning-a-view-versus-a-copy\n",
      "  This is separate from the ipykernel package so we can avoid doing imports until\n"
     ]
    }
   ],
   "source": [
    "for j in range(new['country'].shape[0]):\n",
    "    if type(new['country'][j]) != int:\n",
    "        new['country'][j] = 0 "
   ]
  },
  {
   "cell_type": "code",
   "execution_count": 72,
   "metadata": {
    "colab": {
     "base_uri": "https://localhost:8080/"
    },
    "executionInfo": {
     "elapsed": 16,
     "status": "ok",
     "timestamp": 1634705588103,
     "user": {
      "displayName": "MUKUND SHAH",
      "photoUrl": "https://lh3.googleusercontent.com/a/default-user=s64",
      "userId": "14017176555101206981"
     },
     "user_tz": -330
    },
    "id": "CZOrX1FdCuzs",
    "outputId": "d8fd860a-758a-4e9d-f613-90179b093e36"
   },
   "outputs": [
    {
     "data": {
      "text/plain": [
       "array([1, 46, 10, 3, 2, 5, 6, 14, 8, 4, 23, 15, 7, 0, 9, 12, 22, 11, 17,\n",
       "       61, 13, 50, 32, 51, 66, 52, 67, 30, 25, 24, 19, 28, 27, 31, 56, 38,\n",
       "       83, 33, 49, 68, 64, 16, 20, 41, 55, 18, 34, 21, 92, 53, 62, 37, 29,\n",
       "       60, 26, 54, 71, 86, 94, 57, 45, 43, 48, 40, 63, 35, 39, 69, 36, 84,\n",
       "       47, 77, 97, 58, 76, 91, 99, 74, 81, 82, 93, 73, 65, 100, 96, 88,\n",
       "       90, 72, 44, 42, 89, 87, 78, 79, 95, 98, 59, 75, 70, 80, 85],\n",
       "      dtype=object)"
      ]
     },
     "execution_count": 72,
     "metadata": {},
     "output_type": "execute_result"
    }
   ],
   "source": [
    "new['country'].unique()"
   ]
  },
  {
   "cell_type": "code",
   "execution_count": 73,
   "metadata": {
    "colab": {
     "base_uri": "https://localhost:8080/",
     "height": 417
    },
    "executionInfo": {
     "elapsed": 74,
     "status": "ok",
     "timestamp": 1634705589144,
     "user": {
      "displayName": "MUKUND SHAH",
      "photoUrl": "https://lh3.googleusercontent.com/a/default-user=s64",
      "userId": "14017176555101206981"
     },
     "user_tz": -330
    },
    "id": "I77ialWfCuzs",
    "outputId": "a1755036-1054-4f48-f4b8-105bc5786fd2"
   },
   "outputs": [
    {
     "data": {
      "text/html": [
       "<div>\n",
       "<style scoped>\n",
       "    .dataframe tbody tr th:only-of-type {\n",
       "        vertical-align: middle;\n",
       "    }\n",
       "\n",
       "    .dataframe tbody tr th {\n",
       "        vertical-align: top;\n",
       "    }\n",
       "\n",
       "    .dataframe thead th {\n",
       "        text-align: right;\n",
       "    }\n",
       "</style>\n",
       "<table border=\"1\" class=\"dataframe\">\n",
       "  <thead>\n",
       "    <tr style=\"text-align: right;\">\n",
       "      <th></th>\n",
       "      <th>User-ID</th>\n",
       "      <th>Location</th>\n",
       "      <th>Age</th>\n",
       "      <th>country</th>\n",
       "    </tr>\n",
       "  </thead>\n",
       "  <tbody>\n",
       "    <tr>\n",
       "      <th>42</th>\n",
       "      <td>43</td>\n",
       "      <td>méxico, méxico city, distrito federal</td>\n",
       "      <td>NaN</td>\n",
       "      <td>0</td>\n",
       "    </tr>\n",
       "    <tr>\n",
       "      <th>93</th>\n",
       "      <td>94</td>\n",
       "      <td>tehran, tehran, iraq</td>\n",
       "      <td>39.0</td>\n",
       "      <td>0</td>\n",
       "    </tr>\n",
       "    <tr>\n",
       "      <th>200</th>\n",
       "      <td>201</td>\n",
       "      <td>sharjah, sharjah, u.a.e</td>\n",
       "      <td>NaN</td>\n",
       "      <td>0</td>\n",
       "    </tr>\n",
       "    <tr>\n",
       "      <th>256</th>\n",
       "      <td>257</td>\n",
       "      <td>quit, quit, quit</td>\n",
       "      <td>NaN</td>\n",
       "      <td>0</td>\n",
       "    </tr>\n",
       "    <tr>\n",
       "      <th>257</th>\n",
       "      <td>258</td>\n",
       "      <td>ljk, lkj, lj</td>\n",
       "      <td>NaN</td>\n",
       "      <td>0</td>\n",
       "    </tr>\n",
       "    <tr>\n",
       "      <th>...</th>\n",
       "      <td>...</td>\n",
       "      <td>...</td>\n",
       "      <td>...</td>\n",
       "      <td>...</td>\n",
       "    </tr>\n",
       "    <tr>\n",
       "      <th>278255</th>\n",
       "      <td>278256</td>\n",
       "      <td>benghazi, n/a, libya</td>\n",
       "      <td>49.0</td>\n",
       "      <td>0</td>\n",
       "    </tr>\n",
       "    <tr>\n",
       "      <th>278498</th>\n",
       "      <td>278499</td>\n",
       "      <td>brno, \\n/a\\\", czech republic\"</td>\n",
       "      <td>NaN</td>\n",
       "      <td>0</td>\n",
       "    </tr>\n",
       "    <tr>\n",
       "      <th>278668</th>\n",
       "      <td>278669</td>\n",
       "      <td>spring hill, fl, hernando</td>\n",
       "      <td>13.0</td>\n",
       "      <td>0</td>\n",
       "    </tr>\n",
       "    <tr>\n",
       "      <th>278781</th>\n",
       "      <td>278782</td>\n",
       "      <td>larnaca, n/a, cyprus</td>\n",
       "      <td>NaN</td>\n",
       "      <td>0</td>\n",
       "    </tr>\n",
       "    <tr>\n",
       "      <th>278840</th>\n",
       "      <td>278841</td>\n",
       "      <td>llangollen, denbighshire county, united kingdom.</td>\n",
       "      <td>NaN</td>\n",
       "      <td>0</td>\n",
       "    </tr>\n",
       "  </tbody>\n",
       "</table>\n",
       "<p>2021 rows × 4 columns</p>\n",
       "</div>"
      ],
      "text/plain": [
       "        User-ID                                          Location   Age country\n",
       "42           43             méxico, méxico city, distrito federal   NaN       0\n",
       "93           94                              tehran, tehran, iraq  39.0       0\n",
       "200         201                           sharjah, sharjah, u.a.e   NaN       0\n",
       "256         257                                  quit, quit, quit   NaN       0\n",
       "257         258                                      ljk, lkj, lj   NaN       0\n",
       "...         ...                                               ...   ...     ...\n",
       "278255   278256                              benghazi, n/a, libya  49.0       0\n",
       "278498   278499                     brno, \\n/a\\\", czech republic\"   NaN       0\n",
       "278668   278669                         spring hill, fl, hernando  13.0       0\n",
       "278781   278782                              larnaca, n/a, cyprus   NaN       0\n",
       "278840   278841  llangollen, denbighshire county, united kingdom.   NaN       0\n",
       "\n",
       "[2021 rows x 4 columns]"
      ]
     },
     "execution_count": 73,
     "metadata": {},
     "output_type": "execute_result"
    }
   ],
   "source": [
    "new[new['country']==0]"
   ]
  },
  {
   "cell_type": "code",
   "execution_count": 74,
   "metadata": {
    "colab": {
     "base_uri": "https://localhost:8080/",
     "height": 417
    },
    "executionInfo": {
     "elapsed": 71,
     "status": "ok",
     "timestamp": 1634705589146,
     "user": {
      "displayName": "MUKUND SHAH",
      "photoUrl": "https://lh3.googleusercontent.com/a/default-user=s64",
      "userId": "14017176555101206981"
     },
     "user_tz": -330
    },
    "id": "bry43B7dCuzs",
    "outputId": "89e9fc65-c233-4c75-faad-2a8f74cba68e"
   },
   "outputs": [
    {
     "data": {
      "text/html": [
       "<div>\n",
       "<style scoped>\n",
       "    .dataframe tbody tr th:only-of-type {\n",
       "        vertical-align: middle;\n",
       "    }\n",
       "\n",
       "    .dataframe tbody tr th {\n",
       "        vertical-align: top;\n",
       "    }\n",
       "\n",
       "    .dataframe thead th {\n",
       "        text-align: right;\n",
       "    }\n",
       "</style>\n",
       "<table border=\"1\" class=\"dataframe\">\n",
       "  <thead>\n",
       "    <tr style=\"text-align: right;\">\n",
       "      <th></th>\n",
       "      <th>User-ID</th>\n",
       "      <th>Location</th>\n",
       "      <th>Age</th>\n",
       "      <th>country</th>\n",
       "    </tr>\n",
       "  </thead>\n",
       "  <tbody>\n",
       "    <tr>\n",
       "      <th>0</th>\n",
       "      <td>1</td>\n",
       "      <td>nyc, new york, usa</td>\n",
       "      <td>NaN</td>\n",
       "      <td>1</td>\n",
       "    </tr>\n",
       "    <tr>\n",
       "      <th>1</th>\n",
       "      <td>2</td>\n",
       "      <td>stockton, california, usa</td>\n",
       "      <td>18.0</td>\n",
       "      <td>1</td>\n",
       "    </tr>\n",
       "    <tr>\n",
       "      <th>2</th>\n",
       "      <td>3</td>\n",
       "      <td>moscow, yukon territory, russia</td>\n",
       "      <td>NaN</td>\n",
       "      <td>46</td>\n",
       "    </tr>\n",
       "    <tr>\n",
       "      <th>3</th>\n",
       "      <td>4</td>\n",
       "      <td>porto, v.n.gaia, portugal</td>\n",
       "      <td>17.0</td>\n",
       "      <td>10</td>\n",
       "    </tr>\n",
       "    <tr>\n",
       "      <th>4</th>\n",
       "      <td>5</td>\n",
       "      <td>farnborough, hants, united kingdom</td>\n",
       "      <td>NaN</td>\n",
       "      <td>3</td>\n",
       "    </tr>\n",
       "    <tr>\n",
       "      <th>...</th>\n",
       "      <td>...</td>\n",
       "      <td>...</td>\n",
       "      <td>...</td>\n",
       "      <td>...</td>\n",
       "    </tr>\n",
       "    <tr>\n",
       "      <th>278853</th>\n",
       "      <td>278854</td>\n",
       "      <td>portland, oregon, usa</td>\n",
       "      <td>NaN</td>\n",
       "      <td>1</td>\n",
       "    </tr>\n",
       "    <tr>\n",
       "      <th>278854</th>\n",
       "      <td>278855</td>\n",
       "      <td>tacoma, washington, united kingdom</td>\n",
       "      <td>50.0</td>\n",
       "      <td>3</td>\n",
       "    </tr>\n",
       "    <tr>\n",
       "      <th>278855</th>\n",
       "      <td>278856</td>\n",
       "      <td>brampton, ontario, canada</td>\n",
       "      <td>NaN</td>\n",
       "      <td>2</td>\n",
       "    </tr>\n",
       "    <tr>\n",
       "      <th>278856</th>\n",
       "      <td>278857</td>\n",
       "      <td>knoxville, tennessee, usa</td>\n",
       "      <td>NaN</td>\n",
       "      <td>1</td>\n",
       "    </tr>\n",
       "    <tr>\n",
       "      <th>278857</th>\n",
       "      <td>278858</td>\n",
       "      <td>dublin, n/a, ireland</td>\n",
       "      <td>NaN</td>\n",
       "      <td>26</td>\n",
       "    </tr>\n",
       "  </tbody>\n",
       "</table>\n",
       "<p>278858 rows × 4 columns</p>\n",
       "</div>"
      ],
      "text/plain": [
       "        User-ID                            Location   Age country\n",
       "0             1                  nyc, new york, usa   NaN       1\n",
       "1             2           stockton, california, usa  18.0       1\n",
       "2             3     moscow, yukon territory, russia   NaN      46\n",
       "3             4           porto, v.n.gaia, portugal  17.0      10\n",
       "4             5  farnborough, hants, united kingdom   NaN       3\n",
       "...         ...                                 ...   ...     ...\n",
       "278853   278854               portland, oregon, usa   NaN       1\n",
       "278854   278855  tacoma, washington, united kingdom  50.0       3\n",
       "278855   278856           brampton, ontario, canada   NaN       2\n",
       "278856   278857           knoxville, tennessee, usa   NaN       1\n",
       "278857   278858                dublin, n/a, ireland   NaN      26\n",
       "\n",
       "[278858 rows x 4 columns]"
      ]
     },
     "execution_count": 74,
     "metadata": {},
     "output_type": "execute_result"
    }
   ],
   "source": [
    "new"
   ]
  },
  {
   "cell_type": "code",
   "execution_count": 75,
   "metadata": {
    "executionInfo": {
     "elapsed": 70,
     "status": "ok",
     "timestamp": 1634705589148,
     "user": {
      "displayName": "MUKUND SHAH",
      "photoUrl": "https://lh3.googleusercontent.com/a/default-user=s64",
      "userId": "14017176555101206981"
     },
     "user_tz": -330
    },
    "id": "peTux7TTCuzs"
   },
   "outputs": [],
   "source": [
    "##ratings and countries will be used to form vectors and country will given more weight while calculating distances and all books rating will have same weight\n",
    "## data will shifted to another notebook after creation"
   ]
  },
  {
   "cell_type": "markdown",
   "metadata": {
    "id": "6pNvXEdFCuzt"
   },
   "source": [
    "### Create Sophasticated user data for model building"
   ]
  },
  {
   "cell_type": "code",
   "execution_count": 76,
   "metadata": {
    "executionInfo": {
     "elapsed": 70,
     "status": "ok",
     "timestamp": 1634705589149,
     "user": {
      "displayName": "MUKUND SHAH",
      "photoUrl": "https://lh3.googleusercontent.com/a/default-user=s64",
      "userId": "14017176555101206981"
     },
     "user_tz": -330
    },
    "id": "KQStrLhtCuzt"
   },
   "outputs": [],
   "source": [
    "df = new[['User-ID','country']]"
   ]
  },
  {
   "cell_type": "code",
   "execution_count": 77,
   "metadata": {
    "executionInfo": {
     "elapsed": 70,
     "status": "ok",
     "timestamp": 1634705589151,
     "user": {
      "displayName": "MUKUND SHAH",
      "photoUrl": "https://lh3.googleusercontent.com/a/default-user=s64",
      "userId": "14017176555101206981"
     },
     "user_tz": -330
    },
    "id": "noqNiX6jCuzt"
   },
   "outputs": [],
   "source": [
    "df.set_index('User-ID', inplace =True)"
   ]
  },
  {
   "cell_type": "code",
   "execution_count": 78,
   "metadata": {
    "colab": {
     "base_uri": "https://localhost:8080/",
     "height": 417
    },
    "executionInfo": {
     "elapsed": 71,
     "status": "ok",
     "timestamp": 1634705589153,
     "user": {
      "displayName": "MUKUND SHAH",
      "photoUrl": "https://lh3.googleusercontent.com/a/default-user=s64",
      "userId": "14017176555101206981"
     },
     "user_tz": -330
    },
    "id": "V4jwpV_ICuzt",
    "outputId": "bdcea065-fcaa-4a53-b537-22c6c41bf72a"
   },
   "outputs": [
    {
     "data": {
      "text/html": [
       "<div>\n",
       "<style scoped>\n",
       "    .dataframe tbody tr th:only-of-type {\n",
       "        vertical-align: middle;\n",
       "    }\n",
       "\n",
       "    .dataframe tbody tr th {\n",
       "        vertical-align: top;\n",
       "    }\n",
       "\n",
       "    .dataframe thead th {\n",
       "        text-align: right;\n",
       "    }\n",
       "</style>\n",
       "<table border=\"1\" class=\"dataframe\">\n",
       "  <thead>\n",
       "    <tr style=\"text-align: right;\">\n",
       "      <th></th>\n",
       "      <th>User-ID</th>\n",
       "      <th>ISBN</th>\n",
       "      <th>Book-Rating</th>\n",
       "    </tr>\n",
       "  </thead>\n",
       "  <tbody>\n",
       "    <tr>\n",
       "      <th>0</th>\n",
       "      <td>276725</td>\n",
       "      <td>034545104X</td>\n",
       "      <td>0</td>\n",
       "    </tr>\n",
       "    <tr>\n",
       "      <th>1</th>\n",
       "      <td>276726</td>\n",
       "      <td>0155061224</td>\n",
       "      <td>5</td>\n",
       "    </tr>\n",
       "    <tr>\n",
       "      <th>2</th>\n",
       "      <td>276727</td>\n",
       "      <td>0446520802</td>\n",
       "      <td>0</td>\n",
       "    </tr>\n",
       "    <tr>\n",
       "      <th>3</th>\n",
       "      <td>276729</td>\n",
       "      <td>052165615X</td>\n",
       "      <td>3</td>\n",
       "    </tr>\n",
       "    <tr>\n",
       "      <th>4</th>\n",
       "      <td>276729</td>\n",
       "      <td>0521795028</td>\n",
       "      <td>6</td>\n",
       "    </tr>\n",
       "    <tr>\n",
       "      <th>...</th>\n",
       "      <td>...</td>\n",
       "      <td>...</td>\n",
       "      <td>...</td>\n",
       "    </tr>\n",
       "    <tr>\n",
       "      <th>1149775</th>\n",
       "      <td>276704</td>\n",
       "      <td>1563526298</td>\n",
       "      <td>9</td>\n",
       "    </tr>\n",
       "    <tr>\n",
       "      <th>1149776</th>\n",
       "      <td>276706</td>\n",
       "      <td>0679447156</td>\n",
       "      <td>0</td>\n",
       "    </tr>\n",
       "    <tr>\n",
       "      <th>1149777</th>\n",
       "      <td>276709</td>\n",
       "      <td>0515107662</td>\n",
       "      <td>10</td>\n",
       "    </tr>\n",
       "    <tr>\n",
       "      <th>1149778</th>\n",
       "      <td>276721</td>\n",
       "      <td>0590442449</td>\n",
       "      <td>10</td>\n",
       "    </tr>\n",
       "    <tr>\n",
       "      <th>1149779</th>\n",
       "      <td>276723</td>\n",
       "      <td>05162443314</td>\n",
       "      <td>8</td>\n",
       "    </tr>\n",
       "  </tbody>\n",
       "</table>\n",
       "<p>1149780 rows × 3 columns</p>\n",
       "</div>"
      ],
      "text/plain": [
       "         User-ID         ISBN  Book-Rating\n",
       "0         276725   034545104X            0\n",
       "1         276726   0155061224            5\n",
       "2         276727   0446520802            0\n",
       "3         276729   052165615X            3\n",
       "4         276729   0521795028            6\n",
       "...          ...          ...          ...\n",
       "1149775   276704   1563526298            9\n",
       "1149776   276706   0679447156            0\n",
       "1149777   276709   0515107662           10\n",
       "1149778   276721   0590442449           10\n",
       "1149779   276723  05162443314            8\n",
       "\n",
       "[1149780 rows x 3 columns]"
      ]
     },
     "execution_count": 78,
     "metadata": {},
     "output_type": "execute_result"
    }
   ],
   "source": [
    "ratings_data"
   ]
  },
  {
   "cell_type": "code",
   "execution_count": 79,
   "metadata": {
    "colab": {
     "base_uri": "https://localhost:8080/"
    },
    "executionInfo": {
     "elapsed": 69,
     "status": "ok",
     "timestamp": 1634705589154,
     "user": {
      "displayName": "MUKUND SHAH",
      "photoUrl": "https://lh3.googleusercontent.com/a/default-user=s64",
      "userId": "14017176555101206981"
     },
     "user_tz": -330
    },
    "id": "4N8Qj1oaCuzt",
    "outputId": "0e009a9e-d617-40ad-d46e-7f13c91f60d9"
   },
   "outputs": [
    {
     "data": {
      "text/plain": [
       "271360"
      ]
     },
     "execution_count": 79,
     "metadata": {},
     "output_type": "execute_result"
    }
   ],
   "source": [
    "len(books_data['ISBN'].unique())    ## books in book_data"
   ]
  },
  {
   "cell_type": "code",
   "execution_count": 80,
   "metadata": {
    "colab": {
     "base_uri": "https://localhost:8080/"
    },
    "executionInfo": {
     "elapsed": 62,
     "status": "ok",
     "timestamp": 1634705589156,
     "user": {
      "displayName": "MUKUND SHAH",
      "photoUrl": "https://lh3.googleusercontent.com/a/default-user=s64",
      "userId": "14017176555101206981"
     },
     "user_tz": -330
    },
    "id": "7B24VLBJCuzu",
    "outputId": "82d29db6-34c3-432b-fd51-7a903dc1cc37",
    "scrolled": true
   },
   "outputs": [
    {
     "data": {
      "text/plain": [
       "70405"
      ]
     },
     "execution_count": 80,
     "metadata": {},
     "output_type": "execute_result"
    }
   ],
   "source": [
    "len(set(ratings_data['ISBN'].unique()) - set(books_data['ISBN'].unique()))  ## book rated but not in books_data"
   ]
  },
  {
   "cell_type": "code",
   "execution_count": null,
   "metadata": {
    "colab": {
     "base_uri": "https://localhost:8080/",
     "height": 80
    },
    "executionInfo": {
     "elapsed": 57,
     "status": "ok",
     "timestamp": 1634705589157,
     "user": {
      "displayName": "MUKUND SHAH",
      "photoUrl": "https://lh3.googleusercontent.com/a/default-user=s64",
      "userId": "14017176555101206981"
     },
     "user_tz": -330
    },
    "id": "bQhBVpf1Cuzu",
    "outputId": "ba0bb6b0-8eea-4dbf-e296-ebf95f73ed49"
   },
   "outputs": [],
   "source": []
  },
  {
   "cell_type": "code",
   "execution_count": 82,
   "metadata": {
    "executionInfo": {
     "elapsed": 55,
     "status": "ok",
     "timestamp": 1634705589158,
     "user": {
      "displayName": "MUKUND SHAH",
      "photoUrl": "https://lh3.googleusercontent.com/a/default-user=s64",
      "userId": "14017176555101206981"
     },
     "user_tz": -330
    },
    "id": "3KxujlziCuzu"
   },
   "outputs": [],
   "source": []
  },
  {
   "cell_type": "code",
   "execution_count": null,
   "metadata": {
    "colab": {
     "base_uri": "https://localhost:8080/"
    },
    "executionInfo": {
     "elapsed": 56,
     "status": "ok",
     "timestamp": 1634705589160,
     "user": {
      "displayName": "MUKUND SHAH",
      "photoUrl": "https://lh3.googleusercontent.com/a/default-user=s64",
      "userId": "14017176555101206981"
     },
     "user_tz": -330
    },
    "id": "gx2Hh6CeCuzu",
    "outputId": "1d187f65-565b-4f84-c889-fec778f82642"
   },
   "outputs": [],
   "source": []
  },
  {
   "cell_type": "code",
   "execution_count": 83,
   "metadata": {
    "executionInfo": {
     "elapsed": 50,
     "status": "ok",
     "timestamp": 1634705589161,
     "user": {
      "displayName": "MUKUND SHAH",
      "photoUrl": "https://lh3.googleusercontent.com/a/default-user=s64",
      "userId": "14017176555101206981"
     },
     "user_tz": -330
    },
    "id": "QJ_LLGO_Cuzu"
   },
   "outputs": [],
   "source": []
  },
  {
   "cell_type": "code",
   "execution_count": 83,
   "metadata": {
    "executionInfo": {
     "elapsed": 50,
     "status": "ok",
     "timestamp": 1634705589162,
     "user": {
      "displayName": "MUKUND SHAH",
      "photoUrl": "https://lh3.googleusercontent.com/a/default-user=s64",
      "userId": "14017176555101206981"
     },
     "user_tz": -330
    },
    "id": "k0BkTcnaCuzu"
   },
   "outputs": [],
   "source": []
  },
  {
   "cell_type": "code",
   "execution_count": 83,
   "metadata": {
    "executionInfo": {
     "elapsed": 50,
     "status": "ok",
     "timestamp": 1634705589163,
     "user": {
      "displayName": "MUKUND SHAH",
      "photoUrl": "https://lh3.googleusercontent.com/a/default-user=s64",
      "userId": "14017176555101206981"
     },
     "user_tz": -330
    },
    "id": "9MMV55eRCuzu"
   },
   "outputs": [],
   "source": []
  }
 ],
 "metadata": {
  "accelerator": "GPU",
  "colab": {
   "name": "1.ipynb",
   "provenance": []
  },
  "kernelspec": {
   "display_name": "Python 3",
   "language": "python",
   "name": "python3"
  },
  "language_info": {
   "codemirror_mode": {
    "name": "ipython",
    "version": 3
   },
   "file_extension": ".py",
   "mimetype": "text/x-python",
   "name": "python",
   "nbconvert_exporter": "python",
   "pygments_lexer": "ipython3",
   "version": "3.8.5"
  }
 },
 "nbformat": 4,
 "nbformat_minor": 1
}
