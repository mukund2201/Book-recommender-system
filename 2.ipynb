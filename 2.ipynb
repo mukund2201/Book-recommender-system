{
 "cells": [
  {
   "cell_type": "code",
   "execution_count": null,
   "metadata": {
    "colab": {
     "background_save": true
    },
    "id": "uT12UzKHDZ3X"
   },
   "outputs": [],
   "source": [
    "import pandas as pd\n",
    "import numpy as np\n",
    "from sklearn.neighbors import NearestNeighbors\n",
    "import matplotlib.pyplot as plt\n",
    "import cv2\n",
    "from IPython.display import display, Image\n",
    "%matplotlib inline\n"
   ]
  },
  {
   "cell_type": "code",
   "execution_count": null,
   "metadata": {
    "colab": {
     "base_uri": "https://localhost:8080/"
    },
    "executionInfo": {
     "elapsed": 30591,
     "status": "ok",
     "timestamp": 1635485503440,
     "user": {
      "displayName": "MUKUND SHAH",
      "photoUrl": "https://lh3.googleusercontent.com/a/default-user=s64",
      "userId": "14017176555101206981"
     },
     "user_tz": -330
    },
    "id": "ToXSBZVxDb7k",
    "outputId": "59ede8dd-d7ed-4eaa-f920-7db333e7fa4a"
   },
   "outputs": [
    {
     "name": "stdout",
     "output_type": "stream",
     "text": [
      "Mounted at /content/drive\n"
     ]
    }
   ],
   "source": [
    "from google.colab import drive\n",
    "drive.mount('/content/drive')"
   ]
  },
  {
   "cell_type": "code",
   "execution_count": null,
   "metadata": {
    "id": "M7Ql8t1dDmdJ"
   },
   "outputs": [],
   "source": [
    "df = pd.read_csv('/content/drive/MyDrive/Colab Notebooks/Matrix.csv')"
   ]
  },
  {
   "cell_type": "code",
   "execution_count": null,
   "metadata": {
    "id": "SwEPIsqmD4-_"
   },
   "outputs": [],
   "source": [
    "ratings_data = pd.read_csv('/content/drive/MyDrive/Colab Notebooks/Ratings.csv')"
   ]
  },
  {
   "cell_type": "code",
   "execution_count": null,
   "metadata": {
    "colab": {
     "base_uri": "https://localhost:8080/"
    },
    "executionInfo": {
     "elapsed": 4133,
     "status": "ok",
     "timestamp": 1635485509409,
     "user": {
      "displayName": "MUKUND SHAH",
      "photoUrl": "https://lh3.googleusercontent.com/a/default-user=s64",
      "userId": "14017176555101206981"
     },
     "user_tz": -330
    },
    "id": "p20STocFjvK2",
    "outputId": "198c6bc9-32cc-4d71-9e8b-c30afa08ae15"
   },
   "outputs": [
    {
     "name": "stderr",
     "output_type": "stream",
     "text": [
      "/usr/local/lib/python3.7/dist-packages/IPython/core/interactiveshell.py:2718: DtypeWarning: Columns (3) have mixed types.Specify dtype option on import or set low_memory=False.\n",
      "  interactivity=interactivity, compiler=compiler, result=result)\n"
     ]
    }
   ],
   "source": [
    "books_data = pd.read_csv('/content/drive/MyDrive/Colab Notebooks/Books.csv')"
   ]
  },
  {
   "cell_type": "code",
   "execution_count": null,
   "metadata": {
    "colab": {
     "base_uri": "https://localhost:8080/",
     "height": 419
    },
    "executionInfo": {
     "elapsed": 65,
     "status": "ok",
     "timestamp": 1635485509411,
     "user": {
      "displayName": "MUKUND SHAH",
      "photoUrl": "https://lh3.googleusercontent.com/a/default-user=s64",
      "userId": "14017176555101206981"
     },
     "user_tz": -330
    },
    "id": "ntbB1UTp5kWx",
    "outputId": "8cab405a-3fa3-4bac-da87-9c50d01b8fc7"
   },
   "outputs": [
    {
     "data": {
      "text/html": [
       "<div>\n",
       "<style scoped>\n",
       "    .dataframe tbody tr th:only-of-type {\n",
       "        vertical-align: middle;\n",
       "    }\n",
       "\n",
       "    .dataframe tbody tr th {\n",
       "        vertical-align: top;\n",
       "    }\n",
       "\n",
       "    .dataframe thead th {\n",
       "        text-align: right;\n",
       "    }\n",
       "</style>\n",
       "<table border=\"1\" class=\"dataframe\">\n",
       "  <thead>\n",
       "    <tr style=\"text-align: right;\">\n",
       "      <th></th>\n",
       "      <th>User-ID</th>\n",
       "      <th>country</th>\n",
       "    </tr>\n",
       "  </thead>\n",
       "  <tbody>\n",
       "    <tr>\n",
       "      <th>0</th>\n",
       "      <td>1</td>\n",
       "      <td>1</td>\n",
       "    </tr>\n",
       "    <tr>\n",
       "      <th>1</th>\n",
       "      <td>2</td>\n",
       "      <td>0</td>\n",
       "    </tr>\n",
       "    <tr>\n",
       "      <th>2</th>\n",
       "      <td>3</td>\n",
       "      <td>0</td>\n",
       "    </tr>\n",
       "    <tr>\n",
       "      <th>3</th>\n",
       "      <td>4</td>\n",
       "      <td>10</td>\n",
       "    </tr>\n",
       "    <tr>\n",
       "      <th>4</th>\n",
       "      <td>5</td>\n",
       "      <td>3</td>\n",
       "    </tr>\n",
       "    <tr>\n",
       "      <th>...</th>\n",
       "      <td>...</td>\n",
       "      <td>...</td>\n",
       "    </tr>\n",
       "    <tr>\n",
       "      <th>278853</th>\n",
       "      <td>278854</td>\n",
       "      <td>1</td>\n",
       "    </tr>\n",
       "    <tr>\n",
       "      <th>278854</th>\n",
       "      <td>278855</td>\n",
       "      <td>3</td>\n",
       "    </tr>\n",
       "    <tr>\n",
       "      <th>278855</th>\n",
       "      <td>278856</td>\n",
       "      <td>2</td>\n",
       "    </tr>\n",
       "    <tr>\n",
       "      <th>278856</th>\n",
       "      <td>278857</td>\n",
       "      <td>1</td>\n",
       "    </tr>\n",
       "    <tr>\n",
       "      <th>278857</th>\n",
       "      <td>278858</td>\n",
       "      <td>26</td>\n",
       "    </tr>\n",
       "  </tbody>\n",
       "</table>\n",
       "<p>278858 rows × 2 columns</p>\n",
       "</div>"
      ],
      "text/plain": [
       "        User-ID  country\n",
       "0             1        1\n",
       "1             2        0\n",
       "2             3        0\n",
       "3             4       10\n",
       "4             5        3\n",
       "...         ...      ...\n",
       "278853   278854        1\n",
       "278854   278855        3\n",
       "278855   278856        2\n",
       "278856   278857        1\n",
       "278857   278858       26\n",
       "\n",
       "[278858 rows x 2 columns]"
      ]
     },
     "execution_count": 7,
     "metadata": {},
     "output_type": "execute_result"
    }
   ],
   "source": [
    "\n",
    "df"
   ]
  },
  {
   "cell_type": "code",
   "execution_count": null,
   "metadata": {
    "id": "SI9jcQE71f3K"
   },
   "outputs": [],
   "source": [
    "df.set_index('User-ID', inplace = True)"
   ]
  },
  {
   "cell_type": "code",
   "execution_count": null,
   "metadata": {
    "colab": {
     "base_uri": "https://localhost:8080/"
    },
    "executionInfo": {
     "elapsed": 58,
     "status": "ok",
     "timestamp": 1635485509414,
     "user": {
      "displayName": "MUKUND SHAH",
      "photoUrl": "https://lh3.googleusercontent.com/a/default-user=s64",
      "userId": "14017176555101206981"
     },
     "user_tz": -330
    },
    "id": "EZuBDuAPshHc",
    "outputId": "ead26508-7948-4de5-a924-78ae732a3180"
   },
   "outputs": [
    {
     "data": {
      "text/plain": [
       "1149780"
      ]
     },
     "execution_count": 9,
     "metadata": {},
     "output_type": "execute_result"
    }
   ],
   "source": [
    "ratings_data.shape[0]"
   ]
  },
  {
   "cell_type": "code",
   "execution_count": null,
   "metadata": {
    "id": "P3YIEZHLEBtV"
   },
   "outputs": [],
   "source": [
    "ratings_data = ratings_data[ratings_data['Book-Rating'] != 0]"
   ]
  },
  {
   "cell_type": "code",
   "execution_count": null,
   "metadata": {
    "colab": {
     "base_uri": "https://localhost:8080/",
     "height": 419
    },
    "executionInfo": {
     "elapsed": 51,
     "status": "ok",
     "timestamp": 1635485509417,
     "user": {
      "displayName": "MUKUND SHAH",
      "photoUrl": "https://lh3.googleusercontent.com/a/default-user=s64",
      "userId": "14017176555101206981"
     },
     "user_tz": -330
    },
    "id": "vS8AJL4FEDYR",
    "outputId": "70cc9a70-7507-44cb-c901-dc7676365374"
   },
   "outputs": [
    {
     "data": {
      "text/html": [
       "<div>\n",
       "<style scoped>\n",
       "    .dataframe tbody tr th:only-of-type {\n",
       "        vertical-align: middle;\n",
       "    }\n",
       "\n",
       "    .dataframe tbody tr th {\n",
       "        vertical-align: top;\n",
       "    }\n",
       "\n",
       "    .dataframe thead th {\n",
       "        text-align: right;\n",
       "    }\n",
       "</style>\n",
       "<table border=\"1\" class=\"dataframe\">\n",
       "  <thead>\n",
       "    <tr style=\"text-align: right;\">\n",
       "      <th></th>\n",
       "      <th>User-ID</th>\n",
       "      <th>ISBN</th>\n",
       "      <th>Book-Rating</th>\n",
       "    </tr>\n",
       "  </thead>\n",
       "  <tbody>\n",
       "    <tr>\n",
       "      <th>1</th>\n",
       "      <td>276726</td>\n",
       "      <td>0155061224</td>\n",
       "      <td>5</td>\n",
       "    </tr>\n",
       "    <tr>\n",
       "      <th>3</th>\n",
       "      <td>276729</td>\n",
       "      <td>052165615X</td>\n",
       "      <td>3</td>\n",
       "    </tr>\n",
       "    <tr>\n",
       "      <th>4</th>\n",
       "      <td>276729</td>\n",
       "      <td>0521795028</td>\n",
       "      <td>6</td>\n",
       "    </tr>\n",
       "    <tr>\n",
       "      <th>6</th>\n",
       "      <td>276736</td>\n",
       "      <td>3257224281</td>\n",
       "      <td>8</td>\n",
       "    </tr>\n",
       "    <tr>\n",
       "      <th>7</th>\n",
       "      <td>276737</td>\n",
       "      <td>0600570967</td>\n",
       "      <td>6</td>\n",
       "    </tr>\n",
       "    <tr>\n",
       "      <th>...</th>\n",
       "      <td>...</td>\n",
       "      <td>...</td>\n",
       "      <td>...</td>\n",
       "    </tr>\n",
       "    <tr>\n",
       "      <th>1149773</th>\n",
       "      <td>276704</td>\n",
       "      <td>0806917695</td>\n",
       "      <td>5</td>\n",
       "    </tr>\n",
       "    <tr>\n",
       "      <th>1149775</th>\n",
       "      <td>276704</td>\n",
       "      <td>1563526298</td>\n",
       "      <td>9</td>\n",
       "    </tr>\n",
       "    <tr>\n",
       "      <th>1149777</th>\n",
       "      <td>276709</td>\n",
       "      <td>0515107662</td>\n",
       "      <td>10</td>\n",
       "    </tr>\n",
       "    <tr>\n",
       "      <th>1149778</th>\n",
       "      <td>276721</td>\n",
       "      <td>0590442449</td>\n",
       "      <td>10</td>\n",
       "    </tr>\n",
       "    <tr>\n",
       "      <th>1149779</th>\n",
       "      <td>276723</td>\n",
       "      <td>05162443314</td>\n",
       "      <td>8</td>\n",
       "    </tr>\n",
       "  </tbody>\n",
       "</table>\n",
       "<p>433671 rows × 3 columns</p>\n",
       "</div>"
      ],
      "text/plain": [
       "         User-ID         ISBN  Book-Rating\n",
       "1         276726   0155061224            5\n",
       "3         276729   052165615X            3\n",
       "4         276729   0521795028            6\n",
       "6         276736   3257224281            8\n",
       "7         276737   0600570967            6\n",
       "...          ...          ...          ...\n",
       "1149773   276704   0806917695            5\n",
       "1149775   276704   1563526298            9\n",
       "1149777   276709   0515107662           10\n",
       "1149778   276721   0590442449           10\n",
       "1149779   276723  05162443314            8\n",
       "\n",
       "[433671 rows x 3 columns]"
      ]
     },
     "execution_count": 11,
     "metadata": {},
     "output_type": "execute_result"
    }
   ],
   "source": [
    "ratings_data\n"
   ]
  },
  {
   "cell_type": "code",
   "execution_count": null,
   "metadata": {
    "colab": {
     "base_uri": "https://localhost:8080/"
    },
    "executionInfo": {
     "elapsed": 50,
     "status": "ok",
     "timestamp": 1635485509419,
     "user": {
      "displayName": "MUKUND SHAH",
      "photoUrl": "https://lh3.googleusercontent.com/a/default-user=s64",
      "userId": "14017176555101206981"
     },
     "user_tz": -330
    },
    "id": "5SuhQef-EKlZ",
    "outputId": "edfd445f-fef9-479d-acd2-ba052ab18b8f"
   },
   "outputs": [
    {
     "data": {
      "text/plain": [
       "77805"
      ]
     },
     "execution_count": 12,
     "metadata": {},
     "output_type": "execute_result"
    }
   ],
   "source": [
    "len(list(ratings_data['User-ID'].unique()))"
   ]
  },
  {
   "cell_type": "code",
   "execution_count": null,
   "metadata": {
    "colab": {
     "base_uri": "https://localhost:8080/"
    },
    "executionInfo": {
     "elapsed": 45,
     "status": "ok",
     "timestamp": 1635485509420,
     "user": {
      "displayName": "MUKUND SHAH",
      "photoUrl": "https://lh3.googleusercontent.com/a/default-user=s64",
      "userId": "14017176555101206981"
     },
     "user_tz": -330
    },
    "id": "5tRSds94Iiha",
    "outputId": "065ff7f2-d9d6-4ec8-d481-bfe0ef2c74ed"
   },
   "outputs": [
    {
     "data": {
      "text/plain": [
       "11676     8524\n",
       "98391     5802\n",
       "153662    1969\n",
       "189835    1906\n",
       "23902     1395\n",
       "          ... \n",
       "232692       1\n",
       "181469       1\n",
       "193755       1\n",
       "171222       1\n",
       "20086        1\n",
       "Name: User-ID, Length: 77805, dtype: int64"
      ]
     },
     "execution_count": 13,
     "metadata": {},
     "output_type": "execute_result"
    }
   ],
   "source": [
    "((ratings_data['User-ID'].value_counts()))"
   ]
  },
  {
   "cell_type": "code",
   "execution_count": null,
   "metadata": {
    "id": "EHP9Nb4-PXms"
   },
   "outputs": [],
   "source": [
    "def user_history(userid):\n",
    "  user_account = {}\n",
    "  for book in list(ratings_data[ratings_data['User-ID']==userid]['ISBN']):\n",
    "    user_account[book] =int(ratings_data[ratings_data['User-ID']==userid][ratings_data['ISBN']==book]['Book-Rating'])\n",
    "  return user_account"
   ]
  },
  {
   "cell_type": "code",
   "execution_count": null,
   "metadata": {
    "colab": {
     "base_uri": "https://localhost:8080/"
    },
    "executionInfo": {
     "elapsed": 4178,
     "status": "ok",
     "timestamp": 1635485513562,
     "user": {
      "displayName": "MUKUND SHAH",
      "photoUrl": "https://lh3.googleusercontent.com/a/default-user=s64",
      "userId": "14017176555101206981"
     },
     "user_tz": -330
    },
    "id": "YpvWuIPlSYGX",
    "outputId": "f13fff45-e646-4438-d53f-1b889fe636fe"
   },
   "outputs": [
    {
     "name": "stdout",
     "output_type": "stream",
     "text": [
      "Collecting shutup\n",
      "  Downloading shutup-0.1.3-py3-none-any.whl (1.3 kB)\n",
      "Installing collected packages: shutup\n",
      "Successfully installed shutup-0.1.3\n"
     ]
    }
   ],
   "source": [
    "!pip install shutup\n",
    "import shutup; shutup.please()"
   ]
  },
  {
   "cell_type": "code",
   "execution_count": null,
   "metadata": {
    "id": "IqYHOrK9su-Q"
   },
   "outputs": [],
   "source": [
    "user_groupbybook = ratings_data.groupby('ISBN')"
   ]
  },
  {
   "cell_type": "code",
   "execution_count": null,
   "metadata": {
    "id": "zQID93MatxvU"
   },
   "outputs": [],
   "source": [
    "def simmilar_user_data(user_id):\n",
    "  account = user_history(user_id)\n",
    "  return pd.concat([group for (name,group) in user_groupbybook if name in list(account.keys())])"
   ]
  },
  {
   "cell_type": "code",
   "execution_count": null,
   "metadata": {
    "id": "ppB-sNq72-DW"
   },
   "outputs": [],
   "source": [
    "def fine_data(user_id):\n",
    "  simmilar = simmilar_user_data(user_id)\n",
    "  simmilar = simmilar.pivot(values='Book-Rating', columns='ISBN', index = 'User-ID')\n",
    "  simmilar['country'] = (df.iloc[list(simmilar.index-1)])\n",
    "  return simmilar.fillna(0)"
   ]
  },
  {
   "cell_type": "code",
   "execution_count": null,
   "metadata": {
    "id": "XJJuzQuf9h6A"
   },
   "outputs": [],
   "source": [
    "def recommend(user_id):\n",
    "  fine = fine_data(user_id)\n",
    "  if fine.shape[0]<5:\n",
    "    n_neigbh = fine.shape[0]\n",
    "  else:\n",
    "    n_neigbh = 5\n",
    "  nbrs = NearestNeighbors(n_neighbors=n_neigbh, algorithm= 'kd_tree').fit(fine)\n",
    "  distance,indices = nbrs.kneighbors(fine)\n",
    "  k = fine.reset_index()\n",
    "  ind = (indices[(k[k['User-ID']== user_id].index)]).flatten()\n",
    "  friends =  list(k.iloc[ind[1:]]['User-ID'])\n",
    "\n",
    "  recommendations = pd.concat([pd.DataFrame(list(user_history(friend).items())) for friend  in friends])\n",
    "  return recommendations"
   ]
  },
  {
   "cell_type": "code",
   "execution_count": null,
   "metadata": {
    "id": "d3heo5_MaiRH"
   },
   "outputs": [],
   "source": [
    "def recommend_books(user_id):\n",
    "  kam_ka_data = recommend(user_id)\n",
    "  kam_ka_data = kam_ka_data.groupby(0).describe()[1]\n",
    "  kam_ka_data = kam_ka_data[['count', 'mean']]\n",
    "  user_can_like = kam_ka_data[kam_ka_data['mean']>6].sort_values(by='count', ascending=False)\n",
    "  books_recommended = list(user_can_like.head(5).index)\n",
    "  urls=[]\n",
    "  names=[]\n",
    "  for book in books_recommended:\n",
    "    urls.append(list(books_data[books_data['ISBN']==book]['Image-URL-M'])[0])\n",
    "    names.append(books_data[books_data['ISBN']==book]['Book-Title'])\n",
    "  \n",
    "\n",
    "  for url in urls :\n",
    "      display(Image(url))\n",
    "      \n",
    "  return names"
   ]
  },
  {
   "cell_type": "code",
   "execution_count": null,
   "metadata": {
    "colab": {
     "base_uri": "https://localhost:8080/",
     "height": 776
    },
    "executionInfo": {
     "elapsed": 5732,
     "status": "ok",
     "timestamp": 1635485750398,
     "user": {
      "displayName": "MUKUND SHAH",
      "photoUrl": "https://lh3.googleusercontent.com/a/default-user=s64",
      "userId": "14017176555101206981"
     },
     "user_tz": -330
    },
    "id": "UXy9GIKP_nhO",
    "outputId": "6b0156ab-cf8d-466a-c3b4-00c157da2c9c"
   },
   "outputs": [
    {
     "data": {
      "image/jpeg": "[encoded data removed]",
      "text/plain": [
       "<IPython.core.display.Image object>"
      ]
     },
     "metadata": {},
     "output_type": "display_data"
    },
    {
     "data": {
      "image/jpeg": "[encoded data removed]",
      "text/plain": [
       "<IPython.core.display.Image object>"
      ]
     },
     "metadata": {},
     "output_type": "display_data"
    },
    {
     "data": {
      "image/jpeg": "[encoded data removed]",
      "text/plain": [
       "<IPython.core.display.Image object>"
      ]
     },
     "metadata": {},
     "output_type": "display_data"
    },
    {
     "data": {
      "image/jpeg": "[encoded data removed]",
      "text/plain": [
       "<IPython.core.display.Image object>"
      ]
     },
     "metadata": {},
     "output_type": "display_data"
    },
    {
     "data": {
      "image/jpeg": "[encoded data removed]",
      "text/plain": [
       "<IPython.core.display.Image object>"
      ]
     },
     "metadata": {},
     "output_type": "display_data"
    },
    {
     "data": {
      "text/plain": [
       "[2851    Phantoms\n",
       " Name: Book-Title, dtype: object, 20723    Mind Prey\n",
       " Name: Book-Title, dtype: object, 1854    Chromosome 6\n",
       " Name: Book-Title, dtype: object, 9867    Mortal Stakes\n",
       " Name: Book-Title, dtype: object, 25002    Wilderness\n",
       " Name: Book-Title, dtype: object]"
      ]
     },
     "execution_count": 34,
     "metadata": {},
     "output_type": "execute_result"
    }
   ],
   "source": [
    "recommend_books(20086)"
   ]
  },
  {
   "cell_type": "code",
   "execution_count": null,
   "metadata": {
    "colab": {
     "base_uri": "https://localhost:8080/",
     "height": 633
    },
    "executionInfo": {
     "elapsed": 7249,
     "status": "ok",
     "timestamp": 1635485799190,
     "user": {
      "displayName": "MUKUND SHAH",
      "photoUrl": "https://lh3.googleusercontent.com/a/default-user=s64",
      "userId": "14017176555101206981"
     },
     "user_tz": -330
    },
    "id": "1owGhh-OXDfk",
    "outputId": "981dd77c-d939-4a12-ff98-18abebe6e871"
   },
   "outputs": [
    {
     "data": {
      "image/jpeg": "[encoded data removed]",
      "text/plain": [
       "<IPython.core.display.Image object>"
      ]
     },
     "metadata": {},
     "output_type": "display_data"
    },
    {
     "data": {
      "image/jpeg": "[encoded data removed]",
      "text/plain": [
       "<IPython.core.display.Image object>"
      ]
     },
     "metadata": {},
     "output_type": "display_data"
    },
    {
     "data": {
      "image/jpeg": "[encoded data removed]",
      "text/plain": [
       "<IPython.core.display.Image object>"
      ]
     },
     "metadata": {},
     "output_type": "display_data"
    },
    {
     "data": {
      "image/jpeg": "[encoded data removed]",
      "text/plain": [
       "<IPython.core.display.Image object>"
      ]
     },
     "metadata": {},
     "output_type": "display_data"
    },
    {
     "data": {
      "image/jpeg": "[encoded data removed]",
      "text/plain": [
       "<IPython.core.display.Image object>"
      ]
     },
     "metadata": {},
     "output_type": "display_data"
    },
    {
     "data": {
      "text/plain": [
       "[1485    Bel Canto: A Novel\n",
       " Name: Book-Title, dtype: object, 21361    SUMMER/GERMAN SOLDIE\n",
       " Name: Book-Title, dtype: object, 28937    Christmas Carol\n",
       " Name: Book-Title, dtype: object, 4017    Catch Me If You Can: The True Story of a Real ...\n",
       " Name: Book-Title, dtype: object, 8406    The Other Boleyn Girl\n",
       " Name: Book-Title, dtype: object]"
      ]
     },
     "execution_count": 35,
     "metadata": {},
     "output_type": "execute_result"
    }
   ],
   "source": [
    "recommend_books(232692)"
   ]
  },
  {
   "cell_type": "markdown",
   "metadata": {
    "id": "InTZTn8Tawf7"
   },
   "source": []
  },
  {
   "cell_type": "code",
   "execution_count": null,
   "metadata": {
    "colab": {
     "base_uri": "https://localhost:8080/",
     "height": 919
    },
    "executionInfo": {
     "elapsed": 38104,
     "status": "ok",
     "timestamp": 1635486217065,
     "user": {
      "displayName": "MUKUND SHAH",
      "photoUrl": "https://lh3.googleusercontent.com/a/default-user=s64",
      "userId": "14017176555101206981"
     },
     "user_tz": -330
    },
    "id": "YAWT__5YcZBW",
    "outputId": "81093d2d-b765-46b1-880a-5c36a8c51ba7"
   },
   "outputs": [
    {
     "data": {
      "image/jpeg": "[encoded data removed]",
      "text/plain": [
       "<IPython.core.display.Image object>"
      ]
     },
     "metadata": {},
     "output_type": "display_data"
    },
    {
     "data": {
      "image/jpeg": "[encoded data removed]",
      "text/plain": [
       "<IPython.core.display.Image object>"
      ]
     },
     "metadata": {},
     "output_type": "display_data"
    },
    {
     "data": {
      "image/jpeg": "[encoded data removed]",
      "text/plain": [
       "<IPython.core.display.Image object>"
      ]
     },
     "metadata": {},
     "output_type": "display_data"
    },
    {
     "data": {
      "image/jpeg": "[encoded data removed]",
      "text/plain": [
       "<IPython.core.display.Image object>"
      ]
     },
     "metadata": {},
     "output_type": "display_data"
    },
    {
     "data": {
      "image/jpeg": "[encoded data removed]",
      "text/plain": [
       "<IPython.core.display.Image object>"
      ]
     },
     "metadata": {},
     "output_type": "display_data"
    },
    {
     "data": {
      "text/plain": [
       "[113306    Scottish Surnames\n",
       " Name: Book-Title, dtype: object, 112644    Kingdom of the Seven\n",
       " Name: Book-Title, dtype: object, 113096    Field Guide to Medicinal Wild Plants\n",
       " Name: Book-Title, dtype: object, 113054    Pennsylvania Almanac\n",
       " Name: Book-Title, dtype: object, 113089    Alejandro's Gift\n",
       " Name: Book-Title, dtype: object]"
      ]
     },
     "execution_count": 37,
     "metadata": {},
     "output_type": "execute_result"
    }
   ],
   "source": [
    "recommend_books(276721)\n"
   ]
  },
  {
   "cell_type": "code",
   "execution_count": null,
   "metadata": {
    "id": "EEwKuAoBE3L3"
   },
   "outputs": [],
   "source": []
  },
  {
   "cell_type": "code",
   "execution_count": null,
   "metadata": {
    "colab": {
     "base_uri": "https://localhost:8080/",
     "height": 180
    },
    "executionInfo": {
     "elapsed": 1689,
     "status": "error",
     "timestamp": 1635584465066,
     "user": {
      "displayName": "MUKUND SHAH",
      "photoUrl": "https://lh3.googleusercontent.com/a/default-user=s64",
      "userId": "14017176555101206981"
     },
     "user_tz": -330
    },
    "id": "GKaZyYrF9HZN",
    "outputId": "90ad10fd-e329-4967-bfa2-af1138156830"
   },
   "outputs": [],
   "source": [
    "\n",
    "\n"
   ]
  },
  {
   "cell_type": "code",
   "execution_count": null,
   "metadata": {
    "id": "uP9llRDm9HYG"
   },
   "outputs": [],
   "source": []
  },
  {
   "cell_type": "code",
   "execution_count": null,
   "metadata": {
    "colab": {
     "base_uri": "https://localhost:8080/",
     "height": 173
    },
    "executionInfo": {
     "elapsed": 795,
     "status": "ok",
     "timestamp": 1635487988529,
     "user": {
      "displayName": "MUKUND SHAH",
      "photoUrl": "https://lh3.googleusercontent.com/a/default-user=s64",
      "userId": "14017176555101206981"
     },
     "user_tz": -330
    },
    "id": "sJlSw-EyE5kX",
    "outputId": "888e296f-aa2c-44f6-8987-653303280f30"
   },
   "outputs": [],
   "source": []
  },
  {
   "cell_type": "code",
   "execution_count": null,
   "metadata": {
    "id": "Qh9qaTeWFuH4"
   },
   "outputs": [],
   "source": []
  },
  {
   "cell_type": "code",
   "execution_count": null,
   "metadata": {
    "id": "GVZVDvhsFyel"
   },
   "outputs": [],
   "source": [
    "\n"
   ]
  },
  {
   "cell_type": "code",
   "execution_count": null,
   "metadata": {
    "id": "5dc7DKnFIM20"
   },
   "outputs": [],
   "source": []
  },
  {
   "cell_type": "code",
   "execution_count": null,
   "metadata": {
    "id": "K4ok-ExWJb6h"
   },
   "outputs": [],
   "source": [
    "\n"
   ]
  },
  {
   "cell_type": "code",
   "execution_count": null,
   "metadata": {
    "id": "XEzGZW5wMlQ-"
   },
   "outputs": [],
   "source": []
  }
 ],
 "metadata": {
  "accelerator": "GPU",
  "colab": {
   "authorship_tag": "ABX9TyOM006e0iUrJt0gNm/pbGdm",
   "name": "Untitled0.ipynb",
   "version": ""
  },
  "kernelspec": {
   "display_name": "Python 3",
   "language": "python",
   "name": "python3"
  },
  "language_info": {
   "codemirror_mode": {
    "name": "ipython",
    "version": 3
   },
   "file_extension": ".py",
   "mimetype": "text/x-python",
   "name": "python",
   "nbconvert_exporter": "python",
   "pygments_lexer": "ipython3",
   "version": "3.8.5"
  }
 },
 "nbformat": 4,
 "nbformat_minor": 1
}
